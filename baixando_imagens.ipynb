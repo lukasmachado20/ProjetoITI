{
 "cells": [
  {
   "cell_type": "code",
   "execution_count": null,
   "metadata": {},
   "outputs": [],
   "source": [
    "import pandas as pd\n",
    "import numpy as np\n",
    "import os\n",
    "import subprocess "
   ]
  },
  {
   "cell_type": "markdown",
   "metadata": {},
   "source": [
    "#### Baixar imagens negativas e imagens positivas que tem máscara"
   ]
  },
  {
   "cell_type": "code",
   "execution_count": null,
   "metadata": {},
   "outputs": [],
   "source": [
    "# pasta onde ira salvar\n",
    "folderSave = '/mnt/e/ImagensDataset/' \n",
    "# nome arquivos \n",
    "df = pd.read_csv('FredrikDatasetAnalysis/hasCancer_HasMask.csv')['anon_filename']\n",
    "filesWithMask = list(df)\n",
    "del filesWithMask[0:4]\n",
    "# percorre executando comando\n",
    "for fileName in filesWithMask:\n",
    "    print('Baixando imagem {} ...'.format(fileName))\n",
    "    commandS3 = \"aws s3 cp s3://2021-204/2021-204-1-1/data/ {0} --recursive --exclude \\\"*\\\"  --include {1}  --endpoint-url https://s3.ki.se\".format(folderSave,fileName)\n",
    "    os.system(commandS3)"
   ]
  },
  {
   "cell_type": "code",
   "execution_count": null,
   "metadata": {},
   "outputs": [],
   "source": []
  }
 ],
 "metadata": {
  "kernelspec": {
   "display_name": "Python 3.10.6 ('envITI')",
   "language": "python",
   "name": "python3"
  },
  "language_info": {
   "codemirror_mode": {
    "name": "ipython",
    "version": 3
   },
   "file_extension": ".py",
   "mimetype": "text/x-python",
   "name": "python",
   "nbconvert_exporter": "python",
   "pygments_lexer": "ipython3",
   "version": "3.10.6"
  },
  "orig_nbformat": 4,
  "vscode": {
   "interpreter": {
    "hash": "dd434f70cc3ae088313ff356a88103ed345b48a0462e7854e4d50831e9a55378"
   }
  }
 },
 "nbformat": 4,
 "nbformat_minor": 2
}
