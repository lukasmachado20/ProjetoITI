{
 "cells": [
  {
   "cell_type": "code",
   "execution_count": 1,
   "metadata": {},
   "outputs": [],
   "source": [
    "import pandas as pd\n",
    "import numpy as np\n",
    "from itertools import repeat\n",
    "import multiprocessing as mlp\n",
    "from src.download_dataset import download"
   ]
  },
  {
   "cell_type": "markdown",
   "metadata": {},
   "source": [
    "#### Baixar imagens negativas e imagens positivas que tem máscara"
   ]
  },
  {
   "cell_type": "code",
   "execution_count": 2,
   "metadata": {},
   "outputs": [],
   "source": [
    "# pasta onde ira salvar\n",
    "folderSave = '/mnt/d/ImagensDatasetFredrik/' # /home/lukas-machado/fredrik_dataset\n",
    "# nome arquivos\n",
    "df = pd.read_csv('FredrikDatasetAnalysis/hasCancer_HasMask.csv')['anon_filename']\n",
    "filesWithMask = list(df)"
   ]
  },
  {
   "cell_type": "code",
   "execution_count": 3,
   "metadata": {},
   "outputs": [
    {
     "name": "stdout",
     "output_type": "stream",
     "text": [
      "Baixando imagem 00012_20990909_R_MLO_1.dcm ...Baixando imagem 00045_20990909_L_CC_1.dcm ...Baixando imagem 00075_20990909_L_MLO_2.dcm ...\n",
      "\n",
      "\n",
      "Baixando imagem 00075_20990909_L_CC_2.dcm ...\n",
      "Baixando imagem 00075_20990909_L_MLO_3.dcm ...\n"
     ]
    },
    {
     "name": "stderr",
     "output_type": "stream",
     "text": [
      "\n",
      "\n",
      "[Errno 17] File exists: '/mnt/e/ImagensDatasetFredrik/'\n",
      "[Errno 17] File exists: '/mnt/e/ImagensDatasetFredrik/'\n"
     ]
    },
    {
     "name": "stdout",
     "output_type": "stream",
     "text": [
      "download: s3://2021-204/2021-204-1-1/data/00012_20990909_R_MLO_1.dcm to ../../../../../../e/ImagensDatasetFredrik/00012_20990909_R_MLO_1.dcm\n",
      "download: s3://2021-204/2021-204-1-1/data/00075_20990909_L_CC_2.dcm to ../../../../../../e/ImagensDatasetFredrik/00075_20990909_L_CC_2.dcm\n",
      "download: s3://2021-204/2021-204-1-1/data/00075_20990909_L_MLO_3.dcm to ../../../../../../e/ImagensDatasetFredrik/00075_20990909_L_MLO_3.dcm\n",
      "Baixando imagem 00142_20990909_R_MLO_3.dcm ...h ~0 file(s) remaining (calculating...)\n",
      "                                                                                     \n",
      "Baixando imagem 00142_20990909_R_CC_3.dcm ... ~1 file(s) remaining (calculating...)   \n",
      "                                                                                      \n",
      "Completed 24.0 MiB/~26.0 MiB (2.4 MiB/s) with ~1 file(s) remaining (calculating...)   \r"
     ]
    },
    {
     "ename": "KeyboardInterrupt",
     "evalue": "",
     "output_type": "error",
     "traceback": [
      "\u001b[0;31m---------------------------------------------------------------------------\u001b[0m",
      "\u001b[0;31mKeyboardInterrupt\u001b[0m                         Traceback (most recent call last)",
      "\u001b[1;32m/mnt/c/Users/lukas/Documents/GitHubProjects/ProjetoITI/baixando_imagens.ipynb Cell 4\u001b[0m in \u001b[0;36m<cell line: 1>\u001b[0;34m()\u001b[0m\n\u001b[1;32m      <a href='vscode-notebook-cell://wsl%2Bubuntu-20.04/mnt/c/Users/lukas/Documents/GitHubProjects/ProjetoITI/baixando_imagens.ipynb#W3sdnNjb2RlLXJlbW90ZQ%3D%3D?line=8'>9</a>\u001b[0m \u001b[39mfinally\u001b[39;00m:\n\u001b[1;32m     <a href='vscode-notebook-cell://wsl%2Bubuntu-20.04/mnt/c/Users/lukas/Documents/GitHubProjects/ProjetoITI/baixando_imagens.ipynb#W3sdnNjb2RlLXJlbW90ZQ%3D%3D?line=9'>10</a>\u001b[0m     pool\u001b[39m.\u001b[39mclose()\n\u001b[0;32m---> <a href='vscode-notebook-cell://wsl%2Bubuntu-20.04/mnt/c/Users/lukas/Documents/GitHubProjects/ProjetoITI/baixando_imagens.ipynb#W3sdnNjb2RlLXJlbW90ZQ%3D%3D?line=10'>11</a>\u001b[0m     pool\u001b[39m.\u001b[39;49mjoin()\n",
      "File \u001b[0;32m~/miniconda3/envs/envITI/lib/python3.10/multiprocessing/pool.py:665\u001b[0m, in \u001b[0;36mPool.join\u001b[0;34m(self)\u001b[0m\n\u001b[1;32m    663\u001b[0m \u001b[39melif\u001b[39;00m \u001b[39mself\u001b[39m\u001b[39m.\u001b[39m_state \u001b[39mnot\u001b[39;00m \u001b[39min\u001b[39;00m (CLOSE, TERMINATE):\n\u001b[1;32m    664\u001b[0m     \u001b[39mraise\u001b[39;00m \u001b[39mValueError\u001b[39;00m(\u001b[39m\"\u001b[39m\u001b[39mIn unknown state\u001b[39m\u001b[39m\"\u001b[39m)\n\u001b[0;32m--> 665\u001b[0m \u001b[39mself\u001b[39;49m\u001b[39m.\u001b[39;49m_worker_handler\u001b[39m.\u001b[39;49mjoin()\n\u001b[1;32m    666\u001b[0m \u001b[39mself\u001b[39m\u001b[39m.\u001b[39m_task_handler\u001b[39m.\u001b[39mjoin()\n\u001b[1;32m    667\u001b[0m \u001b[39mself\u001b[39m\u001b[39m.\u001b[39m_result_handler\u001b[39m.\u001b[39mjoin()\n",
      "File \u001b[0;32m~/miniconda3/envs/envITI/lib/python3.10/threading.py:1096\u001b[0m, in \u001b[0;36mThread.join\u001b[0;34m(self, timeout)\u001b[0m\n\u001b[1;32m   1093\u001b[0m     \u001b[39mraise\u001b[39;00m \u001b[39mRuntimeError\u001b[39;00m(\u001b[39m\"\u001b[39m\u001b[39mcannot join current thread\u001b[39m\u001b[39m\"\u001b[39m)\n\u001b[1;32m   1095\u001b[0m \u001b[39mif\u001b[39;00m timeout \u001b[39mis\u001b[39;00m \u001b[39mNone\u001b[39;00m:\n\u001b[0;32m-> 1096\u001b[0m     \u001b[39mself\u001b[39;49m\u001b[39m.\u001b[39;49m_wait_for_tstate_lock()\n\u001b[1;32m   1097\u001b[0m \u001b[39melse\u001b[39;00m:\n\u001b[1;32m   1098\u001b[0m     \u001b[39m# the behavior of a negative timeout isn't documented, but\u001b[39;00m\n\u001b[1;32m   1099\u001b[0m     \u001b[39m# historically .join(timeout=x) for x<0 has acted as if timeout=0\u001b[39;00m\n\u001b[1;32m   1100\u001b[0m     \u001b[39mself\u001b[39m\u001b[39m.\u001b[39m_wait_for_tstate_lock(timeout\u001b[39m=\u001b[39m\u001b[39mmax\u001b[39m(timeout, \u001b[39m0\u001b[39m))\n",
      "File \u001b[0;32m~/miniconda3/envs/envITI/lib/python3.10/threading.py:1116\u001b[0m, in \u001b[0;36mThread._wait_for_tstate_lock\u001b[0;34m(self, block, timeout)\u001b[0m\n\u001b[1;32m   1113\u001b[0m     \u001b[39mreturn\u001b[39;00m\n\u001b[1;32m   1115\u001b[0m \u001b[39mtry\u001b[39;00m:\n\u001b[0;32m-> 1116\u001b[0m     \u001b[39mif\u001b[39;00m lock\u001b[39m.\u001b[39;49macquire(block, timeout):\n\u001b[1;32m   1117\u001b[0m         lock\u001b[39m.\u001b[39mrelease()\n\u001b[1;32m   1118\u001b[0m         \u001b[39mself\u001b[39m\u001b[39m.\u001b[39m_stop()\n",
      "\u001b[0;31mKeyboardInterrupt\u001b[0m: "
     ]
    }
   ],
   "source": [
    "try:\n",
    "    n_cores = 3\n",
    "    pool = mlp.Pool(processes=n_cores)\n",
    "\n",
    "    for i in (filesWithMask):\n",
    "        # Multi Process Images\n",
    "        pool.apply_async(download, [i, folderSave])\n",
    "\n",
    "finally:\n",
    "    pool.close()\n",
    "    pool.join()"
   ]
  },
  {
   "cell_type": "code",
   "execution_count": null,
   "metadata": {},
   "outputs": [],
   "source": []
  }
 ],
 "metadata": {
  "kernelspec": {
   "display_name": "Python 3.10.6 ('envITI')",
   "language": "python",
   "name": "python3"
  },
  "language_info": {
   "codemirror_mode": {
    "name": "ipython",
    "version": 3
   },
   "file_extension": ".py",
   "mimetype": "text/x-python",
   "name": "python",
   "nbconvert_exporter": "python",
   "pygments_lexer": "ipython3",
   "version": "3.10.6"
  },
  "orig_nbformat": 4,
  "vscode": {
   "interpreter": {
    "hash": "dd434f70cc3ae088313ff356a88103ed345b48a0462e7854e4d50831e9a55378"
   }
  }
 },
 "nbformat": 4,
 "nbformat_minor": 2
}
