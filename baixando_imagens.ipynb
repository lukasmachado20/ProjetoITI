{
 "cells": [
  {
   "cell_type": "code",
   "execution_count": 1,
   "metadata": {},
   "outputs": [],
   "source": [
    "import pandas as pd\n",
    "import numpy as np\n",
    "from itertools import repeat\n",
    "import multiprocessing as mlp\n",
    "from src.download_dataset import download"
   ]
  },
  {
   "cell_type": "markdown",
   "metadata": {},
   "source": [
    "#### Baixar imagens negativas e imagens positivas que tem máscara"
   ]
  },
  {
   "cell_type": "code",
   "execution_count": 2,
   "metadata": {},
   "outputs": [],
   "source": [
    "# pasta onde ira salvar\n",
    "folderSave = '/mnt/d/ImagensDatasetFredrik/' # /home/lukas-machado/fredrik_dataset\n",
    "# nome arquivos\n",
    "df = pd.read_csv('FredrikDatasetAnalysis/hasCancer_HasMask.csv')['anon_filename']\n",
    "filesWithMask = list(df)"
   ]
  },
  {
   "cell_type": "code",
   "execution_count": null,
   "metadata": {},
   "outputs": [],
   "source": [
    "try:\n",
    "    n_cores = 3  # utiliza 3 cores do processador\n",
    "    pool = mlp.Pool(processes=n_cores)\n",
    "\n",
    "    for i in (filesWithMask): \n",
    "        # coloca na pool de processo a funcao e arquivo para baixar\n",
    "        pool.apply_async(download, [i, folderSave])\n",
    "\n",
    "finally:  # fecha independente se deu erro ou nao\n",
    "    pool.close()\n",
    "    pool.join()"
   ]
  }
 ],
 "metadata": {
  "kernelspec": {
   "display_name": "Python 3.10.6 ('envITI')",
   "language": "python",
   "name": "python3"
  },
  "language_info": {
   "codemirror_mode": {
    "name": "ipython",
    "version": 3
   },
   "file_extension": ".py",
   "mimetype": "text/x-python",
   "name": "python",
   "nbconvert_exporter": "python",
   "pygments_lexer": "ipython3",
   "version": "3.10.6"
  },
  "orig_nbformat": 4,
  "vscode": {
   "interpreter": {
    "hash": "dd434f70cc3ae088313ff356a88103ed345b48a0462e7854e4d50831e9a55378"
   }
  }
 },
 "nbformat": 4,
 "nbformat_minor": 2
}
