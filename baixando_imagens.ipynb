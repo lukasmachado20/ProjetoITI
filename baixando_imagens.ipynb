{
 "cells": [
  {
   "cell_type": "code",
   "execution_count": null,
   "metadata": {},
   "outputs": [],
   "source": [
    "import pandas as pd\n",
    "import multiprocessing as mlp\n",
    "from src.download_dataset import download"
   ]
  },
  {
   "cell_type": "markdown",
   "metadata": {},
   "source": [
    "#### Baixar imagens negativas e imagens positivas que tem máscara"
   ]
  },
  {
   "cell_type": "code",
   "execution_count": null,
   "metadata": {},
   "outputs": [],
   "source": [
    "# pasta onde ira salvar\n",
    "folderSave = '/mnt/d/ImagensDatasetFredrik/' # /home/lukas-machado/fredrik_dataset\n",
    "# nome arquivos\n",
    "df = pd.read_csv('FredrikDatasetAnalysis/hasCancer_HasMask.csv')['anon_filename']\n",
    "filesWithMask = list(df)"
   ]
  },
  {
   "cell_type": "code",
   "execution_count": null,
   "metadata": {},
   "outputs": [
    {
     "name": "stdout",
     "output_type": "stream",
     "text": [
      "download: s3://2021-204/2021-204-1-1/data/02459_20990909_R_CC_4.dcm to ../../../../../../d/ImagensDatasetFredrik/02459_20990909_R_CC_4.dcm\n"
     ]
    },
    {
     "name": "stderr",
     "output_type": "stream",
     "text": [
      "warning: Skipping file /mnt/d/ImagensDatasetFredrik/02459_20990909_R_CC_4.dcm. Successfully Downloaded /mnt/d/ImagensDatasetFredrik/02459_20990909_R_CC_4.dcm but was unable to update the last modified time. The file was downloaded, but attempting to modify the utime of the file failed. Is the file owned by another user?\n"
     ]
    },
    {
     "name": "stdout",
     "output_type": "stream",
     "text": [
      "download: s3://2021-204/2021-204-1-1/data/02536_20990909_R_CC_1.dcm to ../../../../../../d/ImagensDatasetFredrik/02536_20990909_R_CC_1.dcm\n",
      "Completed 26.0 MiB/~26.0 MiB (2.8 MiB/s) with ~0 file(s) remaining (calculating...)\r"
     ]
    },
    {
     "name": "stderr",
     "output_type": "stream",
     "text": [
      "warning: Skipping file /mnt/d/ImagensDatasetFredrik/02536_20990909_R_CC_1.dcm. Successfully Downloaded /mnt/d/ImagensDatasetFredrik/02536_20990909_R_CC_1.dcm but was unable to update the last modified time. The file was downloaded, but attempting to modify the utime of the file failed. Is the file owned by another user?\n"
     ]
    },
    {
     "name": "stdout",
     "output_type": "stream",
     "text": [
      "download: s3://2021-204/2021-204-1-1/data/02536_20990909_R_MLO_1.dcm to ../../../../../../d/ImagensDatasetFredrik/02536_20990909_R_MLO_1.dcm\n",
      "Completed 26.0 MiB/~26.0 MiB (421.5 KiB/s) with ~0 file(s) remaining (calculating...)\r"
     ]
    },
    {
     "name": "stderr",
     "output_type": "stream",
     "text": [
      "warning: Skipping file /mnt/d/ImagensDatasetFredrik/02536_20990909_R_MLO_1.dcm. Successfully Downloaded /mnt/d/ImagensDatasetFredrik/02536_20990909_R_MLO_1.dcm but was unable to update the last modified time. The file was downloaded, but attempting to modify the utime of the file failed. Is the file owned by another user?\n"
     ]
    },
    {
     "name": "stdout",
     "output_type": "stream",
     "text": [
      "                                                                                     \n",
      "                                                                                      \n",
      "---> Tempo para baixar imagem {} : {}./s) with 1 file(s) remaining                    \n",
      " 02536_20990909_R_MLO_1.dcm 00:01:47\n",
      "Imagem 02536_20990909_R_MLO_1.dcm EXISTE na pasta /mnt/d/ImagensDatasetFredrik/!\n",
      "\n",
      "OK!! Imagem 02536_20990909_R_MLO_1.dcm baixada na pasta /mnt/d/ImagensDatasetFredrik/!\n",
      "\n",
      "Imagem 02536_20990909_R_CC_1.dcm EXISTE na pasta /mnt/d/ImagensDatasetFredrik/!\n",
      "\n",
      "OK!! Imagem 02536_20990909_R_CC_1.dcm baixada na pasta /mnt/d/ImagensDatasetFredrik/!\n",
      "\n",
      "Baixando imagem 02537_20990909_R_CC_3.dcm ...\n",
      "download: s3://2021-204/2021-204-1-1/data/02536_20990909_R_MLO_1.dcm to ../../../../../../d/ImagensDatasetFredrik/02536_20990909_R_MLO_1.dcm\n"
     ]
    },
    {
     "name": "stderr",
     "output_type": "stream",
     "text": [
      "warning: Skipping file /mnt/d/ImagensDatasetFredrik/02536_20990909_R_MLO_1.dcm. Successfully Downloaded /mnt/d/ImagensDatasetFredrik/02536_20990909_R_MLO_1.dcm but was unable to update the last modified time. The file was downloaded, but attempting to modify the utime of the file failed. Is the file owned by another user?\n"
     ]
    },
    {
     "name": "stdout",
     "output_type": "stream",
     "text": [
      "---> Tempo para baixar imagem {} : {}./s) with 1 file(s) remaining                    \n",
      " 02459_20990909_R_MLO_4.dcm 00:03:48\n",
      "Imagem 02459_20990909_R_MLO_4.dcm EXISTE na pasta /mnt/d/ImagensDatasetFredrik/!\n",
      "\n",
      "OK!! Imagem 02459_20990909_R_MLO_4.dcm baixada na pasta /mnt/d/ImagensDatasetFredrik/!\n",
      "\n",
      "Baixando imagem 02555_20990909_L_MLO_1.dcm ...\n",
      "download: s3://2021-204/2021-204-1-1/data/02459_20990909_R_MLO_4.dcm to ../../../../../../d/ImagensDatasetFredrik/02459_20990909_R_MLO_4.dcm\n"
     ]
    },
    {
     "name": "stderr",
     "output_type": "stream",
     "text": [
      "warning: Skipping file /mnt/d/ImagensDatasetFredrik/02459_20990909_R_MLO_4.dcm. Successfully Downloaded /mnt/d/ImagensDatasetFredrik/02459_20990909_R_MLO_4.dcm but was unable to update the last modified time. The file was downloaded, but attempting to modify the utime of the file failed. Is the file owned by another user?\n"
     ]
    },
    {
     "name": "stdout",
     "output_type": "stream",
     "text": [
      "download: s3://2021-204/2021-204-1-1/data/02555_20990909_L_MLO_1.dcm to ../../../../../../d/ImagensDatasetFredrik/02555_20990909_L_MLO_1.dcm\n"
     ]
    },
    {
     "name": "stderr",
     "output_type": "stream",
     "text": [
      "warning: Skipping file /mnt/d/ImagensDatasetFredrik/02555_20990909_L_MLO_1.dcm. Successfully Downloaded /mnt/d/ImagensDatasetFredrik/02555_20990909_L_MLO_1.dcm but was unable to update the last modified time. The file was downloaded, but attempting to modify the utime of the file failed. Is the file owned by another user?\n"
     ]
    },
    {
     "name": "stdout",
     "output_type": "stream",
     "text": [
      "download: s3://2021-204/2021-204-1-1/data/02537_20990909_R_CC_3.dcm to ../../../../../../d/ImagensDatasetFredrik/02537_20990909_R_CC_3.dcm\n"
     ]
    },
    {
     "name": "stderr",
     "output_type": "stream",
     "text": [
      "warning: Skipping file /mnt/d/ImagensDatasetFredrik/02537_20990909_R_CC_3.dcm. Successfully Downloaded /mnt/d/ImagensDatasetFredrik/02537_20990909_R_CC_3.dcm but was unable to update the last modified time. The file was downloaded, but attempting to modify the utime of the file failed. Is the file owned by another user?\n"
     ]
    },
    {
     "name": "stdout",
     "output_type": "stream",
     "text": [
      "download: s3://2021-204/2021-204-1-1/data/02537_20990909_R_CC_3.dcm to ../../../../../../d/ImagensDatasetFredrik/02537_20990909_R_CC_3.dcm\n",
      "Completed 16.3 MiB/~16.3 MiB (246.2 KiB/s) with ~0 file(s) remaining (calculating...)\r"
     ]
    },
    {
     "name": "stderr",
     "output_type": "stream",
     "text": [
      "warning: Skipping file /mnt/d/ImagensDatasetFredrik/02537_20990909_R_CC_3.dcm. Successfully Downloaded /mnt/d/ImagensDatasetFredrik/02537_20990909_R_CC_3.dcm but was unable to update the last modified time. The file was downloaded, but attempting to modify the utime of the file failed. Is the file owned by another user?\n"
     ]
    },
    {
     "name": "stdout",
     "output_type": "stream",
     "text": [
      "                                                                                     \n",
      "download: s3://2021-204/2021-204-1-1/data/02555_20990909_L_CC_1.dcm to ../../../../../../d/ImagensDatasetFredrik/02555_20990909_L_CC_1.dcm\n"
     ]
    },
    {
     "name": "stderr",
     "output_type": "stream",
     "text": [
      "warning: Skipping file /mnt/d/ImagensDatasetFredrik/02555_20990909_L_CC_1.dcm. Successfully Downloaded /mnt/d/ImagensDatasetFredrik/02555_20990909_L_CC_1.dcm but was unable to update the last modified time. The file was downloaded, but attempting to modify the utime of the file failed. Is the file owned by another user?\n"
     ]
    },
    {
     "name": "stdout",
     "output_type": "stream",
     "text": [
      "download: s3://2021-204/2021-204-1-1/data/02537_20990909_R_CC_3.dcm to ../../../../../../d/ImagensDatasetFredrik/02537_20990909_R_CC_3.dcm\n",
      "Completed 16.3 MiB/~16.3 MiB (249.3 KiB/s) with ~0 file(s) remaining (calculating...)\r"
     ]
    },
    {
     "name": "stderr",
     "output_type": "stream",
     "text": [
      "warning: Skipping file /mnt/d/ImagensDatasetFredrik/02537_20990909_R_CC_3.dcm. Successfully Downloaded /mnt/d/ImagensDatasetFredrik/02537_20990909_R_CC_3.dcm but was unable to update the last modified time. The file was downloaded, but attempting to modify the utime of the file failed. Is the file owned by another user?\n"
     ]
    },
    {
     "name": "stdout",
     "output_type": "stream",
     "text": [
      "---> Tempo para baixar imagem {} : {}./s) with 1 file(s) remaining                    \n",
      " 02555_20990909_L_MLO_1.dcm 00:03:35\n",
      "Imagem 02555_20990909_L_MLO_1.dcm EXISTE na pasta /mnt/d/ImagensDatasetFredrik/!\n",
      "\n",
      "OK!! Imagem 02555_20990909_L_MLO_1.dcm baixada na pasta /mnt/d/ImagensDatasetFredrik/!\n",
      "\n",
      "Imagem 02555_20990909_L_CC_1.dcm EXISTE na pasta /mnt/d/ImagensDatasetFredrik/!\n",
      "\n",
      "OK!! Imagem 02555_20990909_L_CC_1.dcm baixada na pasta /mnt/d/ImagensDatasetFredrik/!\n",
      "\n",
      "Baixando imagem 02555_20990909_L_MLO_2.dcm ...\n",
      "download: s3://2021-204/2021-204-1-1/data/02555_20990909_L_MLO_1.dcm to ../../../../../../d/ImagensDatasetFredrik/02555_20990909_L_MLO_1.dcm\n"
     ]
    },
    {
     "name": "stderr",
     "output_type": "stream",
     "text": [
      "warning: Skipping file /mnt/d/ImagensDatasetFredrik/02555_20990909_L_MLO_1.dcm. Successfully Downloaded /mnt/d/ImagensDatasetFredrik/02555_20990909_L_MLO_1.dcm but was unable to update the last modified time. The file was downloaded, but attempting to modify the utime of the file failed. Is the file owned by another user?\n"
     ]
    },
    {
     "name": "stdout",
     "output_type": "stream",
     "text": [
      "---> Tempo para baixar imagem {} : {}.\n",
      " 02537_20990909_R_CC_3.dcm 00:03:50\n",
      "Imagem 02537_20990909_R_CC_3.dcm EXISTE na pasta /mnt/d/ImagensDatasetFredrik/!\n",
      "\n",
      "OK!! Imagem 02537_20990909_R_CC_3.dcm baixada na pasta /mnt/d/ImagensDatasetFredrik/!\n",
      "\n",
      "Baixando imagem 02555_20990909_L_CC_2.dcm ...\n",
      "                                                                                     \n",
      "download: s3://2021-204/2021-204-1-1/data/02555_20990909_L_MLO_2.dcm to ../../../../../../d/ImagensDatasetFredrik/02555_20990909_L_MLO_2.dcm\n"
     ]
    },
    {
     "name": "stderr",
     "output_type": "stream",
     "text": [
      "warning: Skipping file /mnt/d/ImagensDatasetFredrik/02555_20990909_L_MLO_2.dcm. Successfully Downloaded /mnt/d/ImagensDatasetFredrik/02555_20990909_L_MLO_2.dcm but was unable to update the last modified time. The file was downloaded, but attempting to modify the utime of the file failed. Is the file owned by another user?\n"
     ]
    },
    {
     "name": "stdout",
     "output_type": "stream",
     "text": [
      "download: s3://2021-204/2021-204-1-1/data/02536_20990909_R_CC_1.dcm to ../../../../../../d/ImagensDatasetFredrik/02536_20990909_R_CC_1.dcm\n"
     ]
    },
    {
     "name": "stderr",
     "output_type": "stream",
     "text": [
      "warning: Skipping file /mnt/d/ImagensDatasetFredrik/02536_20990909_R_CC_1.dcm. Successfully Downloaded /mnt/d/ImagensDatasetFredrik/02536_20990909_R_CC_1.dcm but was unable to update the last modified time. The file was downloaded, but attempting to modify the utime of the file failed. Is the file owned by another user?\n"
     ]
    },
    {
     "name": "stdout",
     "output_type": "stream",
     "text": [
      "download: s3://2021-204/2021-204-1-1/data/02555_20990909_L_CC_2.dcm to ../../../../../../d/ImagensDatasetFredrik/02555_20990909_L_CC_2.dcm\n",
      "Completed 16.3 MiB/~16.3 MiB (1.3 MiB/s) with ~0 file(s) remaining (calculating...)\r"
     ]
    },
    {
     "name": "stderr",
     "output_type": "stream",
     "text": [
      "warning: Skipping file /mnt/d/ImagensDatasetFredrik/02555_20990909_L_CC_2.dcm. Successfully Downloaded /mnt/d/ImagensDatasetFredrik/02555_20990909_L_CC_2.dcm but was unable to update the last modified time. The file was downloaded, but attempting to modify the utime of the file failed. Is the file owned by another user?\n"
     ]
    },
    {
     "name": "stdout",
     "output_type": "stream",
     "text": [
      "download: s3://2021-204/2021-204-1-1/data/02555_20990909_L_CC_2.dcm to ../../../../../../d/ImagensDatasetFredrik/02555_20990909_L_CC_2.dcm\n"
     ]
    },
    {
     "name": "stderr",
     "output_type": "stream",
     "text": [
      "warning: Skipping file /mnt/d/ImagensDatasetFredrik/02555_20990909_L_CC_2.dcm. Successfully Downloaded /mnt/d/ImagensDatasetFredrik/02555_20990909_L_CC_2.dcm but was unable to update the last modified time. The file was downloaded, but attempting to modify the utime of the file failed. Is the file owned by another user?\n"
     ]
    },
    {
     "name": "stdout",
     "output_type": "stream",
     "text": [
      "download: s3://2021-204/2021-204-1-1/data/02555_20990909_L_MLO_2.dcm to ../../../../../../d/ImagensDatasetFredrik/02555_20990909_L_MLO_2.dcm\n",
      "---> Tempo para baixar imagem {} : {}.\n",
      " 02555_20990909_L_MLO_2.dcm 00:01:49\n",
      "Imagem 02555_20990909_L_MLO_2.dcm EXISTE na pasta /mnt/d/ImagensDatasetFredrik/!\n",
      "\n",
      "OK!! Imagem 02555_20990909_L_MLO_2.dcm baixada na pasta /mnt/d/ImagensDatasetFredrik/!\n",
      "\n",
      "Baixando imagem 02561_20990909_L_CC_2.dcm ...\n"
     ]
    },
    {
     "name": "stderr",
     "output_type": "stream",
     "text": [
      "warning: Skipping file /mnt/d/ImagensDatasetFredrik/02555_20990909_L_MLO_2.dcm. Successfully Downloaded /mnt/d/ImagensDatasetFredrik/02555_20990909_L_MLO_2.dcm but was unable to update the last modified time. The file was downloaded, but attempting to modify the utime of the file failed. Is the file owned by another user?\n"
     ]
    },
    {
     "name": "stdout",
     "output_type": "stream",
     "text": [
      "                                                                                   .)\n",
      "download: s3://2021-204/2021-204-1-1/data/02555_20990909_L_CC_1.dcm to ../../../../../../d/ImagensDatasetFredrik/02555_20990909_L_CC_1.dcm\n"
     ]
    },
    {
     "name": "stderr",
     "output_type": "stream",
     "text": [
      "warning: Skipping file /mnt/d/ImagensDatasetFredrik/02555_20990909_L_CC_1.dcm. Successfully Downloaded /mnt/d/ImagensDatasetFredrik/02555_20990909_L_CC_1.dcm but was unable to update the last modified time. The file was downloaded, but attempting to modify the utime of the file failed. Is the file owned by another user?\n"
     ]
    },
    {
     "name": "stdout",
     "output_type": "stream",
     "text": [
      "download: s3://2021-204/2021-204-1-1/data/02561_20990909_L_MLO_2.dcm to ../../../../../../d/ImagensDatasetFredrik/02561_20990909_L_MLO_2.dcm\n"
     ]
    },
    {
     "name": "stderr",
     "output_type": "stream",
     "text": [
      "warning: Skipping file /mnt/d/ImagensDatasetFredrik/02561_20990909_L_MLO_2.dcm. Successfully Downloaded /mnt/d/ImagensDatasetFredrik/02561_20990909_L_MLO_2.dcm but was unable to update the last modified time. The file was downloaded, but attempting to modify the utime of the file failed. Is the file owned by another user?\n"
     ]
    },
    {
     "name": "stdout",
     "output_type": "stream",
     "text": [
      "download: s3://2021-204/2021-204-1-1/data/02561_20990909_L_CC_1.dcm to ../../../../../../d/ImagensDatasetFredrik/02561_20990909_L_CC_1.dcm\n",
      "Completed 26.0 MiB/~26.0 MiB (382.5 KiB/s) with ~0 file(s) remaining (calculating...)\r"
     ]
    },
    {
     "name": "stderr",
     "output_type": "stream",
     "text": [
      "warning: Skipping file /mnt/d/ImagensDatasetFredrik/02561_20990909_L_CC_1.dcm. Successfully Downloaded /mnt/d/ImagensDatasetFredrik/02561_20990909_L_CC_1.dcm but was unable to update the last modified time. The file was downloaded, but attempting to modify the utime of the file failed. Is the file owned by another user?\n"
     ]
    },
    {
     "name": "stdout",
     "output_type": "stream",
     "text": [
      "                                                                                     \n",
      "download: s3://2021-204/2021-204-1-1/data/02561_20990909_L_MLO_1.dcm to ../../../../../../d/ImagensDatasetFredrik/02561_20990909_L_MLO_1.dcm\n",
      "Completed 20.8 MiB/26.0 MiB (167.0 KiB/s) with 1 file(s) remaining                   \r"
     ]
    },
    {
     "name": "stderr",
     "output_type": "stream",
     "text": [
      "warning: Skipping file /mnt/d/ImagensDatasetFredrik/02561_20990909_L_MLO_1.dcm. Successfully Downloaded /mnt/d/ImagensDatasetFredrik/02561_20990909_L_MLO_1.dcm but was unable to update the last modified time. The file was downloaded, but attempting to modify the utime of the file failed. Is the file owned by another user?\n"
     ]
    },
    {
     "name": "stdout",
     "output_type": "stream",
     "text": [
      "Completed 26.0 MiB/26.0 MiB (196.8 KiB/s) with 1 file(s) remaining                    \r"
     ]
    },
    {
     "name": "stderr",
     "output_type": "stream",
     "text": [
      "warning: Skipping file /mnt/d/ImagensDatasetFredrik/02561_20990909_L_MLO_2.dcm. Successfully Downloaded /mnt/d/ImagensDatasetFredrik/02561_20990909_L_MLO_2.dcm but was unable to update the last modified time. The file was downloaded, but attempting to modify the utime of the file failed. Is the file owned by another user?\n"
     ]
    },
    {
     "name": "stdout",
     "output_type": "stream",
     "text": [
      "download: s3://2021-204/2021-204-1-1/data/02561_20990909_L_MLO_2.dcm to ../../../../../../d/ImagensDatasetFredrik/02561_20990909_L_MLO_2.dcm\n",
      "---> Tempo para baixar imagem {} : {}./s) with 1 file(s) remaining                    \n",
      " 02555_20990909_L_CC_2.dcm 00:05:42\n",
      "Imagem 02555_20990909_L_CC_2.dcm EXISTE na pasta /mnt/d/ImagensDatasetFredrik/!\n",
      "\n",
      "OK!! Imagem 02555_20990909_L_CC_2.dcm baixada na pasta /mnt/d/ImagensDatasetFredrik/!\n",
      "download: s3://2021-204/2021-204-1-1/data/02555_20990909_L_CC_2.dcm to ../../../../../../d/ImagensDatasetFredrik/02555_20990909_L_CC_2.dcm\n"
     ]
    },
    {
     "name": "stderr",
     "output_type": "stream",
     "text": [
      "warning: Skipping file /mnt/d/ImagensDatasetFredrik/02555_20990909_L_CC_2.dcm. Successfully Downloaded /mnt/d/ImagensDatasetFredrik/02555_20990909_L_CC_2.dcm but was unable to update the last modified time. The file was downloaded, but attempting to modify the utime of the file failed. Is the file owned by another user?\n"
     ]
    },
    {
     "name": "stdout",
     "output_type": "stream",
     "text": [
      "\n",
      "Imagem 02561_20990909_L_MLO_2.dcm EXISTE na pasta /mnt/d/ImagensDatasetFredrik/!\n",
      "\n",
      "OK!! Imagem 02561_20990909_L_MLO_2.dcm baixada na pasta /mnt/d/ImagensDatasetFredrik/!\n",
      "\n",
      "Imagem 02561_20990909_L_CC_1.dcm EXISTE na pasta /mnt/d/ImagensDatasetFredrik/!\n",
      "\n",
      "OK!! Imagem 02561_20990909_L_CC_1.dcm baixada na pasta /mnt/d/ImagensDatasetFredrik/!\n",
      "\n",
      "Imagem 02561_20990909_L_MLO_1.dcm EXISTE na pasta /mnt/d/ImagensDatasetFredrik/!\n",
      "\n",
      "OK!! Imagem 02561_20990909_L_MLO_1.dcm baixada na pasta /mnt/d/ImagensDatasetFredrik/!\n",
      "\n",
      "Baixando imagem 02622_20990909_R_MLO_2.dcm ...\n",
      "                                                                                      \n",
      "---> Tempo para baixar imagem {} : {}./s) with 1 file(s) remaining                    \n",
      " 02561_20990909_L_CC_2.dcm 00:04:42\n",
      "Imagem 02561_20990909_L_CC_2.dcm EXISTE na pasta /mnt/d/ImagensDatasetFredrik/!\n",
      "\n",
      "OK!! Imagem 02561_20990909_L_CC_2.dcm baixada na pasta /mnt/d/ImagensDatasetFredrik/!\n",
      "\n",
      "Baixando imagem 02622_20990909_R_MLO_3.dcm ...\n",
      "download: s3://2021-204/2021-204-1-1/data/02561_20990909_L_CC_2.dcm to ../../../../../../d/ImagensDatasetFredrik/02561_20990909_L_CC_2.dcm\n"
     ]
    },
    {
     "name": "stderr",
     "output_type": "stream",
     "text": [
      "warning: Skipping file /mnt/d/ImagensDatasetFredrik/02561_20990909_L_CC_2.dcm. Successfully Downloaded /mnt/d/ImagensDatasetFredrik/02561_20990909_L_CC_2.dcm but was unable to update the last modified time. The file was downloaded, but attempting to modify the utime of the file failed. Is the file owned by another user?\n"
     ]
    }
   ],
   "source": [
    "try:\n",
    "    n_cores = 2  # utiliza 3 cores do processador\n",
    "    pool = mlp.Pool(processes=n_cores)\n",
    "\n",
    "    for i in (filesWithMask): \n",
    "        # coloca na pool de processo a funcao e arquivo para baixar\n",
    "        pool.apply_async(download, [i, folderSave])\n",
    "\n",
    "finally:  # fecha independente se deu erro ou nao\n",
    "    pool.close()\n",
    "    pool.join()"
   ]
  },
  {
   "cell_type": "code",
   "execution_count": null,
   "metadata": {},
   "outputs": [],
   "source": []
  }
 ],
 "metadata": {
  "kernelspec": {
   "display_name": "projITI",
   "language": "python",
   "name": "python3"
  },
  "language_info": {
   "codemirror_mode": {
    "name": "ipython",
    "version": 3
   },
   "file_extension": ".py",
   "mimetype": "text/x-python",
   "name": "python",
   "nbconvert_exporter": "python",
   "pygments_lexer": "ipython3",
   "version": "3.10.8"
  },
  "orig_nbformat": 4,
  "vscode": {
   "interpreter": {
    "hash": "19ebae7649bc8f30423614f7f0c6c34bfa0523abe40845ad5c12c7c23eb09446"
   }
  }
 },
 "nbformat": 4,
 "nbformat_minor": 2
}
