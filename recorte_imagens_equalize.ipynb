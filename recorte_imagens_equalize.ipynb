{
 "cells": [
  {
   "cell_type": "markdown",
   "metadata": {},
   "source": [
    "# Recorte da Imagem para depois Equalizar novamente\n",
    "* Iremos recortar a imagem para depois equalizar novamente pois melhora a qualidade da equalização;\n",
    "* Eliminados os espaços em preto desnecessários da imagem, ficando apenas com o recorte da mama;\n",
    "* Assim, melhora significativamente a qualidade da equalização, e como consequencia, melhora a qualidade do constraste da imagem permitindo visualizar muito mais as estruturas da mama."
   ]
  },
  {
   "cell_type": "code",
   "execution_count": 3,
   "metadata": {},
   "outputs": [],
   "source": [
    "import pydicom as dicom\n",
    "import cv2\n",
    "import imutils"
   ]
  },
  {
   "cell_type": "code",
   "execution_count": null,
   "metadata": {},
   "outputs": [],
   "source": [
    "localImg = \"/mnt/d/ImagensDatasetFredrik/\"\n",
    "img = dicom.dcmread(localImg + \"00342_20990909_L_CC_3.dcm\")\n",
    "\n",
    "ret, temp1 = cv2.threshold(img.pixel_array,127,255,cv2.THRESH_BINARY)\n",
    "temp1=temp1.astype('uint8')\n",
    "\n",
    "cnts = cv2.findContours(temp1, cv2.RETR_TREE, cv2.CHAIN_APPROX_SIMPLE)\n",
    "cnts = imutils.grab_contours(cnts)\n",
    "cnts = sorted(cnts, key= cv2.contourArea, reverse = True) #pegando as coordenadas que resultam na maior áre\n",
    "rect = cv2.boundingRect(cnts[0])\n",
    "\n",
    "x,y,w,h = rect\n",
    "croped = (im.pixel_array)[y:y+h, x:x+w].copy() \n",
    "\n",
    "plt.imshow(exposure.equalize_adapthist(croped), cmap='gray')\n",
    "plt.axis('off')\n",
    "plt.savefig('/home/bernardo/Mestrado/fredrik-dataset/data-processed/'+filename_mlo['anon_filename'][i][0:20]+'.png')"
   ]
  }
 ],
 "metadata": {
  "kernelspec": {
   "display_name": "Python 3.10.6 ('envITI')",
   "language": "python",
   "name": "python3"
  },
  "language_info": {
   "codemirror_mode": {
    "name": "ipython",
    "version": 3
   },
   "file_extension": ".py",
   "mimetype": "text/x-python",
   "name": "python",
   "nbconvert_exporter": "python",
   "pygments_lexer": "ipython3",
   "version": "3.10.6"
  },
  "orig_nbformat": 4,
  "vscode": {
   "interpreter": {
    "hash": "dd434f70cc3ae088313ff356a88103ed345b48a0462e7854e4d50831e9a55378"
   }
  }
 },
 "nbformat": 4,
 "nbformat_minor": 2
}
