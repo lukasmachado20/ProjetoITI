{
 "cells": [
  {
   "cell_type": "markdown",
   "id": "751305b3",
   "metadata": {},
   "source": [
    "<br>\n",
    "<img src=\"https://images.even3.com.br/ONieRmTALZ2ETt2LfoUY4_IopIU=/fit-in/250x250/smart/even3.blob.core.windows.net/logos/UFCSPA-logotipo-1.19fc99573cf34163a727.png\" style=\"width: 100px;\"/>\n",
    "<center>Aprendizado profundo para Visão Computacional I\n",
    "    <br>\n",
    "    Prof. Viviane Botelho</center>\n",
    "    \n",
    "## <center>  **Aula 2: Introdução as redes neurais. Modelos de classificação binária** <center>"
   ]
  },
  {
   "cell_type": "markdown",
   "id": "763dd481",
   "metadata": {},
   "source": [
    "# <font color='blue'>Tensores</font>"
   ]
  },
  {
   "cell_type": "code",
   "execution_count": null,
   "id": "2c558a7b",
   "metadata": {},
   "outputs": [],
   "source": [
    "import numpy as np\n",
    "import matplotlib.pyplot as plt"
   ]
  },
  {
   "cell_type": "markdown",
   "id": "020ad091",
   "metadata": {},
   "source": [
    "#### Criando um tensor 2d"
   ]
  },
  {
   "cell_type": "code",
   "execution_count": null,
   "id": "a5dfb0c9",
   "metadata": {},
   "outputs": [],
   "source": [
    "t=np.array([[1,1,1,1,1],\n",
    "           [0,0,0,0,1],\n",
    "           [0,1,1,1,1],\n",
    "           [0,0,0,0,1],\n",
    "           [1,1,1,1,1]])"
   ]
  },
  {
   "cell_type": "code",
   "execution_count": null,
   "id": "444e5287",
   "metadata": {},
   "outputs": [],
   "source": [
    "np.shape(t)"
   ]
  },
  {
   "cell_type": "code",
   "execution_count": null,
   "id": "3b302442",
   "metadata": {},
   "outputs": [],
   "source": [
    "plt.imshow(t,cmap='Greys')\n",
    "# https://matplotlib.org/3.5.0/tutorials/colors/colormaps.html"
   ]
  },
  {
   "cell_type": "markdown",
   "id": "976a0d26",
   "metadata": {},
   "source": [
    "### Abrindo uma imagem"
   ]
  },
  {
   "cell_type": "code",
   "execution_count": null,
   "id": "c93ef42f",
   "metadata": {},
   "outputs": [],
   "source": [
    "img = plt.imread('figura.jpg')"
   ]
  },
  {
   "cell_type": "code",
   "execution_count": null,
   "id": "11f12429",
   "metadata": {},
   "outputs": [],
   "source": [
    "np.shape(img)"
   ]
  },
  {
   "cell_type": "code",
   "execution_count": null,
   "id": "7c1cd268",
   "metadata": {},
   "outputs": [],
   "source": [
    "plt.imshow(img);"
   ]
  },
  {
   "cell_type": "markdown",
   "id": "db3f6707",
   "metadata": {},
   "source": [
    "# <font color='blue'> Estudo de caso: Pima Indians Diabetes Database </font>\n",
    "https://www.kaggle.com/uciml/pima-indians-diabetes-database\n",
    "\n",
    "<img src=\"https://static.tuasaude.com/media/article/dr/nj/diabetes_52276_l.jpg\" style=\"width: 200px;\"/>\n",
    "\n",
    "**O objetivo do conjunto de dados é prever diagnosticamente se um paciente tem diabetes. Composto por dados de mulheres com 21 anos de idade ou mais.**\n",
    "\n",
    "<br>\n",
    "\n",
    "Descrição das variáveis:\n",
    "- Número de vezes que engravidou\n",
    "- Concentração de glicose plasmática a 2 horas em um - teste oral de tolerância à glicose\n",
    "- Pressão arterial diastólica (mm Hg)\n",
    "- Espessura da dobra da pele do tríceps (mm)\n",
    "- Insulina sérica de 2 horas (muU/ml)\n",
    "- Índice de massa corporal (kg/m2) \n",
    "- Diabetes Pedigree Function  (tendência ao desenvolvimento de diabetes) \n",
    "- Resultado: (0 = não possui diabetes ou 1 = possui diabetes)\n",
    "\n",
    "\n",
    "\n"
   ]
  },
  {
   "cell_type": "markdown",
   "id": "7f3dfc02",
   "metadata": {},
   "source": [
    "### 1) Leitura dos dados"
   ]
  },
  {
   "cell_type": "code",
   "execution_count": null,
   "id": "988e0e56",
   "metadata": {},
   "outputs": [],
   "source": [
    "import pandas as pd"
   ]
  },
  {
   "cell_type": "code",
   "execution_count": null,
   "id": "c939b921",
   "metadata": {},
   "outputs": [],
   "source": [
    "data=pd.read_csv('diabetes.csv') \n",
    "data.head()"
   ]
  },
  {
   "cell_type": "markdown",
   "id": "240eff13",
   "metadata": {},
   "source": [
    "### 2) Identificando dados de entrada e dados de saída\n",
    "Obs: Nenhum outro tratamento foi feito neste dataset (Remover dados duplicados, remover outliers, remover dados faltantes, remover ou substituir dados incompletos, feature engineering)"
   ]
  },
  {
   "cell_type": "code",
   "execution_count": null,
   "id": "0ca6cefb",
   "metadata": {},
   "outputs": [],
   "source": [
    "X = data[['Pregnancies','Glucose','BloodPressure','SkinThickness','Insulin','BMI', 'DiabetesPedigreeFunction', 'Age']].values\n",
    "Y=data['Outcome'].values"
   ]
  },
  {
   "cell_type": "markdown",
   "id": "2884a3f3",
   "metadata": {},
   "source": [
    "### 3) Separando dados para treino, validação e teste"
   ]
  },
  {
   "cell_type": "code",
   "execution_count": null,
   "id": "31bd3dc7",
   "metadata": {},
   "outputs": [],
   "source": [
    "from sklearn.model_selection import train_test_split"
   ]
  },
  {
   "cell_type": "code",
   "execution_count": null,
   "id": "ef83d45f",
   "metadata": {},
   "outputs": [],
   "source": [
    "X2, X_test, y2, y_test = train_test_split(X, Y, test_size=0.1,random_state=20,shuffle=True,stratify=Y) #separei 10% para teste, restante chamei de X2\n",
    "X_train, X_val, y_train, y_val = train_test_split(X2, y2, test_size=0.2,random_state=20,shuffle=True,stratify=y2) #separei 10% para teste, restante chamei de X2\n",
    "\n",
    "print('treino:',np.shape(X_train))\n",
    "print('validação:',np.shape(X_test))\n",
    "print('teste:',np.shape(X_val))"
   ]
  },
  {
   "cell_type": "markdown",
   "id": "7d4bb88e",
   "metadata": {},
   "source": [
    "# <font color='blue'> Modelo de classificação binária </font>"
   ]
  },
  {
   "cell_type": "markdown",
   "id": "e47093e8",
   "metadata": {},
   "source": [
    "### 1) Criação do modelo"
   ]
  },
  {
   "cell_type": "code",
   "execution_count": null,
   "id": "bad0c76e",
   "metadata": {},
   "outputs": [],
   "source": [
    "import tensorflow as tf\n",
    "import keras as ke"
   ]
  },
  {
   "cell_type": "code",
   "execution_count": null,
   "id": "919871f4",
   "metadata": {},
   "outputs": [],
   "source": [
    "tf.random.set_seed(20)   # fixar o pseudo-random generator do tensorflow\n",
    "np.random.seed(20)\n",
    "\n",
    "model = ke.Sequential()\n",
    "model.add(ke.layers.Input(X_train.shape[1],))  #Camada de entrada: informando ao modelo quantas features eu tenho na entrada\n",
    "model.add(ke.layers.Dense(10, activation='relu'))\n",
    "model.add(ke.layers.Dense(1, activation='sigmoid')) # modelos de classificação bináaria sempre devem ter 1 neurônio na última camada\n",
    "\n",
    "model.summary()"
   ]
  },
  {
   "cell_type": "code",
   "execution_count": null,
   "id": "5d0a29b1",
   "metadata": {},
   "outputs": [],
   "source": [
    "model.compile(loss='binary_crossentropy', metrics=['accuracy'])"
   ]
  },
  {
   "cell_type": "markdown",
   "id": "c9e53ee8",
   "metadata": {},
   "source": [
    "### 2) Treinamento e validação do modelo"
   ]
  },
  {
   "cell_type": "code",
   "execution_count": null,
   "id": "4351d729",
   "metadata": {},
   "outputs": [],
   "source": [
    "history=model.fit(x=X_train,y=y_train,\n",
    "                  epochs=20,\n",
    "                  validation_data=(X_val, y_val));"
   ]
  },
  {
   "cell_type": "markdown",
   "id": "313534f5",
   "metadata": {},
   "source": [
    "### Curvas de aprendizado"
   ]
  },
  {
   "cell_type": "code",
   "execution_count": null,
   "id": "3cc02da0",
   "metadata": {},
   "outputs": [],
   "source": [
    "plt.figure(figsize=(15,5))\n",
    "plt.subplot(1,2,1)\n",
    "plt.plot(history.history[\"loss\"], label=\"treino\")\n",
    "plt.plot(history.history[\"val_loss\"], label=\"validacao\")\n",
    "plt.xlabel(\"epocas\")\n",
    "plt.ylabel(\"Loss\")\n",
    "plt.legend();\n",
    "\n",
    "plt.subplot(1,2,2)\n",
    "plt.plot(history.history[\"accuracy\"], label=\"treino\")\n",
    "plt.plot(history.history[\"val_accuracy\"], label=\"validacao\")\n",
    "plt.xlabel(\"epocas\")\n",
    "plt.ylabel(\"acurácia\")\n",
    "plt.legend();"
   ]
  },
  {
   "cell_type": "markdown",
   "id": "26d23615",
   "metadata": {},
   "source": [
    "### Matriz de confusão"
   ]
  },
  {
   "cell_type": "code",
   "execution_count": null,
   "id": "7eb92fc1",
   "metadata": {},
   "outputs": [],
   "source": [
    "import sklearn.metrics as skm \n",
    "import seaborn as sns"
   ]
  },
  {
   "cell_type": "code",
   "execution_count": null,
   "id": "9fce48d3",
   "metadata": {},
   "outputs": [],
   "source": [
    "def mat_conf(Xmedido, ymedido, model,nome_dados):\n",
    "    Y_pred_prob = model.predict(Xmedido)\n",
    "    Y_pred = np.round(Y_pred_prob) # limiar 50%\n",
    "    cmat=skm.confusion_matrix(ymedido,Y_pred)\n",
    "    cm_df = pd.DataFrame(cmat) \n",
    "\n",
    "    ax= plt.subplot()\n",
    "    sns.heatmap(cm_df,annot=True, cmap='Blues',fmt=\"d\",cbar=False)\n",
    "    plt.title('Teste')\n",
    "\n",
    "\n",
    "    ax.set_xlabel('Predito');ax.set_ylabel('Real'); \n",
    "    ax.set_title('Matriz de confusão:'+nome_dados); \n",
    "    ax.xaxis.set_ticklabels(['0', '1']); ax.yaxis.set_ticklabels(['0', '1']);\n",
    "    return"
   ]
  },
  {
   "cell_type": "code",
   "execution_count": null,
   "id": "88505998",
   "metadata": {},
   "outputs": [],
   "source": [
    "mat_conf(X_train, y_train, model,'dados de treino')"
   ]
  },
  {
   "cell_type": "code",
   "execution_count": null,
   "id": "58fbbdff",
   "metadata": {},
   "outputs": [],
   "source": [
    "mat_conf(X_val, y_val, model,'dados de validação')"
   ]
  },
  {
   "cell_type": "markdown",
   "id": "c00e5f82",
   "metadata": {},
   "source": [
    "### Avaliar o modelo com os dados de teste\n",
    "Assumindo que os hiperparâmetros já foram ajustados, o modelo já foi treinado e chegamos na nossa melhor configuração."
   ]
  },
  {
   "cell_type": "code",
   "execution_count": null,
   "id": "d3eb9d0e",
   "metadata": {},
   "outputs": [],
   "source": [
    "mat_conf(X_test, y_test, model,'dados de validação')"
   ]
  },
  {
   "cell_type": "markdown",
   "id": "6f06f3f3",
   "metadata": {},
   "source": [
    "Obs: Existe uma série de outras métricas que são utilizadas para avaliar a qualidade dos modelos. Vamos estudá-las ao longo da disciplina!"
   ]
  },
  {
   "cell_type": "code",
   "execution_count": null,
   "id": "a4edc113",
   "metadata": {},
   "outputs": [],
   "source": []
  }
 ],
 "metadata": {
  "kernelspec": {
   "display_name": "Python 3 (ipykernel)",
   "language": "python",
   "name": "python3"
  },
  "language_info": {
   "codemirror_mode": {
    "name": "ipython",
    "version": 3
   },
   "file_extension": ".py",
   "mimetype": "text/x-python",
   "name": "python",
   "nbconvert_exporter": "python",
   "pygments_lexer": "ipython3",
   "version": "3.9.12"
  }
 },
 "nbformat": 4,
 "nbformat_minor": 5
}
