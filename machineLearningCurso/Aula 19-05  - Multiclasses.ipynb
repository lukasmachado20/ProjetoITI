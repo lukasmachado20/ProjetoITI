{
 "cells": [
  {
   "cell_type": "markdown",
   "id": "edbc4843",
   "metadata": {},
   "source": [
    "<br>\n",
    "<img src=\"https://images.even3.com.br/ONieRmTALZ2ETt2LfoUY4_IopIU=/fit-in/250x250/smart/even3.blob.core.windows.net/logos/UFCSPA-logotipo-1.19fc99573cf34163a727.png\" style=\"width: 100px;\"/>\n",
    "<center>Aprendizado profundo para Visão Computacional I\n",
    "    <br>\n",
    "    Prof. Viviane Botelho</center>\n",
    "    \n",
    "## <center>  **Aula 3a: Modelos de classificação multiclasse** <center>\n",
    "\n",
    "\n",
    "\n"
   ]
  },
  {
   "cell_type": "markdown",
   "id": "2af8bc92",
   "metadata": {},
   "source": [
    "Da aula anterior...\n",
    "\n",
    "\n",
    "<img src=\"https://i.ibb.co/yfQwLDq/Captura-de-tela-2022-05-17-145921.png\" style=\"width: 600px;\"/>"
   ]
  },
  {
   "cell_type": "markdown",
   "id": "acd0db44",
   "metadata": {},
   "source": [
    "Antes de começar: Habilitando o comando de autocompletar"
   ]
  },
  {
   "cell_type": "code",
   "execution_count": 1,
   "id": "3c8b5371",
   "metadata": {},
   "outputs": [],
   "source": [
    "%config Completer.use_jedi = False"
   ]
  },
  {
   "cell_type": "code",
   "execution_count": 3,
   "id": "dd72170d",
   "metadata": {},
   "outputs": [
    {
     "name": "stderr",
     "output_type": "stream",
     "text": [
      "2023-03-21 19:39:50.614344: I tensorflow/core/platform/cpu_feature_guard.cc:193] This TensorFlow binary is optimized with oneAPI Deep Neural Network Library (oneDNN) to use the following CPU instructions in performance-critical operations:  SSE4.1 SSE4.2 AVX AVX2 FMA\n",
      "To enable them in other operations, rebuild TensorFlow with the appropriate compiler flags.\n"
     ]
    }
   ],
   "source": [
    "import tensorflow as tf\n",
    "import keras as ke\n",
    "import numpy as np\n",
    "import matplotlib.pyplot as plt\n",
    "import pandas as pd\n",
    "from sklearn.model_selection import train_test_split\n",
    "import cv2\n",
    "import sklearn.metrics as skm \n",
    "import seaborn as sns"
   ]
  },
  {
   "cell_type": "markdown",
   "id": "d6950391",
   "metadata": {},
   "source": [
    "# <font color='blue'>Classificação multiclasses</font>"
   ]
  },
  {
   "cell_type": "markdown",
   "id": "a70d4a33",
   "metadata": {},
   "source": [
    "<img src=\"https://miro.medium.com/max/1400/1*JAXmOAImcf683aXaBDPPVg.jpeg\" style=\"width: 400px;\"/>"
   ]
  },
  {
   "cell_type": "markdown",
   "id": "790e8540",
   "metadata": {},
   "source": [
    "### Banco de dados: Fashion MNIST\n",
    "Contém 70 mil imagens (60mil oara treinamento e 10 mil para teste) imagens em tons de cinza em 10 categorias.\n",
    "https://www.tensorflow.org/tutorials/keras/classification?hl=pt-br\n",
    "\n",
    "<img src=\"https://uploaddeimagens.com.br/images/003/297/013/full/Capturar.PNG?1624226287\" style=\"width: 400px;\"/>\n",
    "\n",
    "**Objetivo: Identificar a classe da roupa**\n",
    "\n",
    "<br>\n",
    "\n",
    "## Importando e visualizando os dados:\n"
   ]
  },
  {
   "cell_type": "code",
   "execution_count": 4,
   "id": "0a9200d5",
   "metadata": {},
   "outputs": [],
   "source": [
    "fashion_mnist = ke.datasets.fashion_mnist\n",
    "(X2, Y2), (X_teste, Y_teste) = fashion_mnist.load_data() # carregando o banco de dados\n",
    "\n",
    "X_treino, X_val, Y_treino, Y_val = train_test_split(X2, Y2, test_size=0.2,random_state=20,shuffle=True,stratify=Y2)"
   ]
  },
  {
   "cell_type": "markdown",
   "id": "93adbea8",
   "metadata": {},
   "source": [
    "Analisando o conteúdo do dataset...."
   ]
  },
  {
   "cell_type": "code",
   "execution_count": 9,
   "id": "e4a42c1e",
   "metadata": {},
   "outputs": [
    {
     "name": "stdout",
     "output_type": "stream",
     "text": [
      "(48000,)\n",
      "(12000,)\n",
      "(10000,)\n",
      "(60000,)\n"
     ]
    }
   ],
   "source": [
    "print(np.shape(Y_treino))\n",
    "print(np.shape(Y_val))\n",
    "print(np.shape(Y_teste))\n",
    "print(np.shape(Y2))\n",
    "#print(np.shape(X_treino[0]))"
   ]
  },
  {
   "cell_type": "code",
   "execution_count": null,
   "id": "541613ae",
   "metadata": {},
   "outputs": [],
   "source": [
    "pd.DataFrame(Y_treino).value_counts()"
   ]
  },
  {
   "cell_type": "code",
   "execution_count": null,
   "id": "f3f6372f",
   "metadata": {},
   "outputs": [],
   "source": [
    "plt.imshow(X_treino[1850],cmap='Greys')"
   ]
  },
  {
   "cell_type": "markdown",
   "id": "561975b1",
   "metadata": {},
   "source": [
    "<font color='red'>Importante: Todas as imagens do dataset devem ter o mesmo tamanho.</font>"
   ]
  },
  {
   "cell_type": "code",
   "execution_count": null,
   "id": "f14e087c",
   "metadata": {},
   "outputs": [],
   "source": [
    "np.shape(X_treino[551])"
   ]
  },
  {
   "cell_type": "markdown",
   "id": "53dbb182",
   "metadata": {},
   "source": [
    "## Normalização dos dados de entrada: \n",
    "Faz parte da preparação dos dados. É uma boa prática. Garante que os dados de entrada estejam na mesma ordem de grandeza.\n",
    "- Convergência mais rápida.\n",
    "- Modelos numericamente mais estáveis.\n",
    "- Melhores resultados.\n",
    "<br>\n",
    " <center> $xnorm=\\frac{x-xmin}{xmax-xmin}$ <center> \n",
    "\n",
    "<font color='red'>Importante: xmin e xmax devem ser ser obtidos a partir dos dados de treino. Os mesmos valores devem ser utilizados nos dados de validação, teste e quaisquer outros dados que forem ser preditos pelo modelo!</font>\n",
    "<br> \n",
    "    \n",
    "Alternativamente, para o caso de **imagens**:\n",
    "\n",
    "Profundidade de cor descreve a quantidade de tons usados para representar a cor de um pixel em uma imagem ($2^{n}$, onde n é o número de bits)\n",
    " \n",
    "<img src=\"https://www.projectorcentral.com/images/articles/BitDepthComparedgrayscale-600.jpg\" style=\"width: 400px;\"/>\n"
   ]
  },
  {
   "cell_type": "code",
   "execution_count": null,
   "id": "ef5ea353",
   "metadata": {},
   "outputs": [],
   "source": [
    "print(np.max(X_treino[0]))"
   ]
  },
  {
   "cell_type": "code",
   "execution_count": null,
   "id": "5f70f118",
   "metadata": {},
   "outputs": [],
   "source": [
    "print(np.min(X_treino[0]))"
   ]
  },
  {
   "cell_type": "code",
   "execution_count": null,
   "id": "f65a443d",
   "metadata": {},
   "outputs": [],
   "source": [
    "X_treino = X_treino/255.0\n",
    "X_teste= X_teste/255.0\n",
    "X_val= X_val/255.0"
   ]
  },
  {
   "cell_type": "code",
   "execution_count": null,
   "id": "01fa4140",
   "metadata": {},
   "outputs": [],
   "source": [
    "print(Y_treino[155])"
   ]
  },
  {
   "cell_type": "code",
   "execution_count": null,
   "id": "28ca7376",
   "metadata": {},
   "outputs": [],
   "source": [
    "np.shape(Y_teste)"
   ]
  },
  {
   "cell_type": "markdown",
   "id": "4516b60e",
   "metadata": {},
   "source": [
    "## Criação do Modelo: "
   ]
  },
  {
   "cell_type": "code",
   "execution_count": null,
   "id": "f7c48607",
   "metadata": {},
   "outputs": [],
   "source": [
    "model = ke.Sequential()\n",
    "model.add(ke.layers.Flatten(input_shape=(28, 28,)))\n",
    "model.add(ke.layers.Dense(128, activation='relu'))\n",
    "model.add(ke.layers.Dense(10, activation='softmax'))"
   ]
  },
  {
   "cell_type": "markdown",
   "id": "268ad115",
   "metadata": {},
   "source": [
    "Obs: É necessário informar para rede a dimensão dos dados de entrada apenas da primeira camada. A dimensão das camadas subsequentes é ajustada automaticamente\n",
    "<br>\n",
    "\n",
    "### <font color='red'> O que faz a camada Flatten? </font> "
   ]
  },
  {
   "cell_type": "markdown",
   "id": "2c558ae2",
   "metadata": {},
   "source": [
    "<img src=\"https://uploaddeimagens.com.br/images/003/297/045/full/Capturar2.PNG?1624228050\" style=\"width: 600px;\"/>\n",
    "\n",
    "\n",
    "\n"
   ]
  },
  {
   "cell_type": "markdown",
   "id": "d88f11e2",
   "metadata": {},
   "source": [
    "### <font color='red'> Por que há 10 neurônios de na camada de saída? </font> "
   ]
  },
  {
   "cell_type": "markdown",
   "id": "8d0a0c78",
   "metadata": {},
   "source": [
    "### <font color='red'> Por que a funçao de ativação da camada de saída é softmax? </font> \n",
    "<img src=\"https://miro.medium.com/max/1906/1*ReYpdIZ3ZSAPb2W8cJpkBg.jpeg\" style=\"width: 300px;\"/>\n",
    "\n",
    "\n",
    "Pode ser interpretada como a probabilidade de uma dada saída perterncer a uma das classes\n",
    "\n"
   ]
  },
  {
   "cell_type": "markdown",
   "id": "22eebb46",
   "metadata": {},
   "source": [
    "### Resumindo o modelo:"
   ]
  },
  {
   "cell_type": "code",
   "execution_count": null,
   "id": "40a6dda9",
   "metadata": {},
   "outputs": [],
   "source": [
    "model.summary()"
   ]
  },
  {
   "cell_type": "markdown",
   "id": "5b1f5748",
   "metadata": {},
   "source": [
    "## Compilando e treinando o modelo: "
   ]
  },
  {
   "cell_type": "code",
   "execution_count": null,
   "id": "531acfa6",
   "metadata": {},
   "outputs": [],
   "source": [
    "model.compile(optimizer='adam', \n",
    "              loss='sparse_categorical_crossentropy',\n",
    "              metrics=['accuracy'])"
   ]
  },
  {
   "cell_type": "code",
   "execution_count": null,
   "id": "14dcd8d0",
   "metadata": {
    "scrolled": false
   },
   "outputs": [],
   "source": [
    "tf.random.set_seed(80)   # fixar o pseudo-random generator do tensorflow\n",
    "np.random.seed(80)\n",
    "\n",
    "history=model.fit(x=X_treino, y=Y_treino,\n",
    "          epochs=20,\n",
    "          validation_data=(X_val,Y_val))"
   ]
  },
  {
   "cell_type": "markdown",
   "id": "6a3db3d1",
   "metadata": {},
   "source": [
    "## Avaliando os resultados: "
   ]
  },
  {
   "cell_type": "code",
   "execution_count": null,
   "id": "5863caf2",
   "metadata": {},
   "outputs": [],
   "source": [
    "plt.figure(figsize=(15,5))\n",
    "plt.subplot(1,2,1)\n",
    "plt.plot(history.history[\"loss\"], label=\"treino\")\n",
    "plt.plot(history.history[\"val_loss\"], label=\"validacao\")\n",
    "plt.xlabel(\"epocas\")\n",
    "plt.ylabel(\"Loss\")\n",
    "plt.legend();\n",
    "plt.subplot(1,2,2)\n",
    "plt.plot(history.history[\"accuracy\"], label=\"treino\")\n",
    "plt.plot(history.history[\"val_accuracy\"], label=\"validacao\")\n",
    "plt.xlabel(\"epocas\")\n",
    "plt.ylabel(\"acurácia\")\n",
    "plt.legend();"
   ]
  },
  {
   "cell_type": "markdown",
   "id": "efb12174",
   "metadata": {},
   "source": [
    "<br>\n",
    "\n",
    "### Verificando as imagens...\n",
    "<img src=\"https://uploaddeimagens.com.br/images/003/297/013/full/Capturar.PNG?1624226287\" style=\"width: 400px;\"/>"
   ]
  },
  {
   "cell_type": "code",
   "execution_count": null,
   "id": "7f15563f",
   "metadata": {},
   "outputs": [],
   "source": [
    "Y_pred_val = model.predict(X_val)"
   ]
  },
  {
   "cell_type": "markdown",
   "id": "ca2deed6",
   "metadata": {},
   "source": [
    "Por exemplo, avaliando uma imagem qualquer do dataset de validação...."
   ]
  },
  {
   "cell_type": "code",
   "execution_count": null,
   "id": "5e3568a0",
   "metadata": {},
   "outputs": [],
   "source": [
    "print(Y_pred_val[8])  # todas as probabilidades"
   ]
  },
  {
   "cell_type": "code",
   "execution_count": null,
   "id": "a079a004",
   "metadata": {},
   "outputs": [],
   "source": [
    "np.argmax(Y_pred_val[8])  #pegando a parte do modelo onde a probabilidade é maior"
   ]
  },
  {
   "cell_type": "code",
   "execution_count": null,
   "id": "38230a73",
   "metadata": {},
   "outputs": [],
   "source": [
    "Y_val[8]   # comparando com o valor real"
   ]
  },
  {
   "cell_type": "code",
   "execution_count": null,
   "id": "2b87aecf",
   "metadata": {},
   "outputs": [],
   "source": [
    "plt.imshow(np.reshape(X_val[8],(28,28)),cmap='Greys');"
   ]
  },
  {
   "cell_type": "code",
   "execution_count": null,
   "id": "77a2ad01",
   "metadata": {},
   "outputs": [],
   "source": [
    "def mat_conf_multi(Xmedido, ymedido, model,nome_dados):\n",
    "    Y_pred_prob = model.predict(Xmedido)\n",
    "    Y_pred = np.argmax(Y_pred_prob,axis=1) \n",
    "    cmat=skm.confusion_matrix(ymedido,Y_pred)\n",
    "    cm_df = pd.DataFrame(cmat) \n",
    "\n",
    "    ax= plt.subplot()\n",
    "    sns.heatmap(cm_df,annot=True, cmap='Blues',fmt=\"d\",cbar=False)\n",
    "\n",
    "    ax.set_xlabel('Predito');ax.set_ylabel('Real'); \n",
    "    ax.set_title('Matriz de confusão:'+nome_dados); \n",
    "    return"
   ]
  },
  {
   "cell_type": "code",
   "execution_count": null,
   "id": "64a80f41",
   "metadata": {},
   "outputs": [],
   "source": [
    "mat_conf_multi(X_val, Y_val, model,'dados de validacao')"
   ]
  },
  {
   "cell_type": "markdown",
   "id": "3f32397d",
   "metadata": {},
   "source": [
    "### Usando uma imagem qualquer (de fora do dataset)"
   ]
  },
  {
   "cell_type": "code",
   "execution_count": null,
   "id": "b8a5d2ed",
   "metadata": {},
   "outputs": [],
   "source": [
    "img1 = plt.imread('fig_teste2.jpg')\n",
    "plt.imshow(img1)"
   ]
  },
  {
   "cell_type": "code",
   "execution_count": null,
   "id": "ed33fe7a",
   "metadata": {},
   "outputs": [],
   "source": [
    "#converte para 8-bit grayscale\n",
    "img2=255-cv2.cvtColor(img1, cv2.COLOR_RGB2GRAY)\n",
    "plt.imshow(img2,cmap='Greys')"
   ]
  },
  {
   "cell_type": "code",
   "execution_count": null,
   "id": "33bbfadb",
   "metadata": {},
   "outputs": [],
   "source": [
    "# redimensiona (28x28)\n",
    "img3 = cv2.resize(img2, (28, 28), interpolation=cv2.INTER_NEAREST)\n",
    "plt.imshow(img3,cmap='Greys')"
   ]
  },
  {
   "cell_type": "code",
   "execution_count": null,
   "id": "fe8aef0a",
   "metadata": {},
   "outputs": [],
   "source": [
    "# normaliza\n",
    "img4 = img3/255"
   ]
  },
  {
   "cell_type": "code",
   "execution_count": null,
   "id": "4756a37d",
   "metadata": {},
   "outputs": [],
   "source": [
    "np.shape(img4)"
   ]
  },
  {
   "cell_type": "code",
   "execution_count": null,
   "id": "d55d1fd1",
   "metadata": {},
   "outputs": [],
   "source": [
    "#predição\n",
    "img5=np.reshape(img4,(1,28,28))\n",
    "Y_img5 = model.predict(img5)\n",
    "np.argmax(Y_img5)"
   ]
  },
  {
   "cell_type": "markdown",
   "id": "8ea761b0",
   "metadata": {},
   "source": [
    "## Codificação dos dados de saída (one-hot encoding)\n",
    "Permitir que o modelo assuma uma ordem natural entre as categorias pode resultar em baixo desempenho da rede neural, pois as categorias não possuem nenhuma relação ordenada. Por isso é mais conveniente codificar."
   ]
  },
  {
   "cell_type": "code",
   "execution_count": null,
   "id": "483264d1",
   "metadata": {},
   "outputs": [],
   "source": [
    "Y_treino2=tf.keras.utils.to_categorical(Y_treino)\n",
    "Y_teste2=tf.keras.utils.to_categorical(Y_teste)\n",
    "Y_val2=tf.keras.utils.to_categorical(Y_val)"
   ]
  },
  {
   "cell_type": "code",
   "execution_count": null,
   "id": "ddd7781c",
   "metadata": {},
   "outputs": [],
   "source": []
  },
  {
   "cell_type": "code",
   "execution_count": null,
   "id": "13e2c40f",
   "metadata": {},
   "outputs": [],
   "source": [
    "model2 = ke.Sequential()\n",
    "model2.add(ke.layers.Flatten(input_shape=(28, 28,)))\n",
    "model2.add(ke.layers.Dense(128, activation='relu'))\n",
    "model2.add(ke.layers.Dense(10, activation='softmax'))\n",
    "\n",
    "model2.compile(optimizer='adam', \n",
    "              loss='categorical_crossentropy',\n",
    "              metrics=['accuracy'])\n",
    "\n",
    "\n",
    "history=model2.fit(x=X_treino, y=Y_treino2,\n",
    "          epochs=20,\n",
    "          validation_data=(X_val,Y_val2))"
   ]
  },
  {
   "cell_type": "code",
   "execution_count": null,
   "id": "d298b80f",
   "metadata": {},
   "outputs": [],
   "source": [
    "plt.figure(figsize=(15,5))\n",
    "plt.subplot(1,2,1)\n",
    "plt.plot(history.history[\"loss\"], label=\"treino\")\n",
    "plt.plot(history.history[\"val_loss\"], label=\"validacao\")\n",
    "plt.xlabel(\"epocas\")\n",
    "plt.ylabel(\"Loss\")\n",
    "plt.legend();\n",
    "plt.subplot(1,2,2)\n",
    "plt.plot(history.history[\"accuracy\"], label=\"treino\")\n",
    "plt.plot(history.history[\"val_accuracy\"], label=\"validacao\")\n",
    "plt.xlabel(\"epocas\")\n",
    "plt.ylabel(\"acurácia\")\n",
    "plt.legend();"
   ]
  },
  {
   "cell_type": "code",
   "execution_count": null,
   "id": "3be670f2",
   "metadata": {},
   "outputs": [],
   "source": [
    "mat_conf_multi(X_val, Y_val, model2,'dados de validacao')"
   ]
  }
 ],
 "metadata": {
  "kernelspec": {
   "display_name": "Python 3 (ipykernel)",
   "language": "python",
   "name": "python3"
  },
  "language_info": {
   "codemirror_mode": {
    "name": "ipython",
    "version": 3
   },
   "file_extension": ".py",
   "mimetype": "text/x-python",
   "name": "python",
   "nbconvert_exporter": "python",
   "pygments_lexer": "ipython3",
   "version": "3.10.8"
  }
 },
 "nbformat": 4,
 "nbformat_minor": 5
}
