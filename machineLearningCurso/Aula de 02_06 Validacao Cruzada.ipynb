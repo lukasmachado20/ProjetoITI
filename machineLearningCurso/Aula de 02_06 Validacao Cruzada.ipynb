{
 "cells": [
  {
   "cell_type": "markdown",
   "id": "751305b3",
   "metadata": {},
   "source": [
    "<br>\n",
    "<img src=\"https://images.even3.com.br/ONieRmTALZ2ETt2LfoUY4_IopIU=/fit-in/250x250/smart/even3.blob.core.windows.net/logos/UFCSPA-logotipo-1.19fc99573cf34163a727.png\" style=\"width: 100px;\"/>\n",
    "<center>Aprendizado profundo para Visão Computacional I\n",
    "    <br>\n",
    "    Prof. Carla Becker</center>\n",
    "    \n",
    "## <center>  **Aula 5: Valicação Cruzada** <center>"
   ]
  },
  {
   "cell_type": "markdown",
   "id": "db3f6707",
   "metadata": {},
   "source": [
    "# <font color='blue'> Estudo de caso: Pima Indians Diabetes Database </font>\n",
    "https://www.kaggle.com/uciml/pima-indians-diabetes-database\n",
    "\n",
    "<img src=\"https://static.tuasaude.com/media/article/dr/nj/diabetes_52276_l.jpg\" style=\"width: 200px;\"/>\n",
    "\n",
    "**O objetivo do conjunto de dados é prever diagnosticamente se um paciente tem diabetes. Composto por dados de mulheres com 21 anos de idade ou mais.**\n",
    "\n",
    "<br>\n",
    "\n",
    "Descrição das variáveis:\n",
    "- Número de vezes que engravidou\n",
    "- Concentração de glicose plasmática a 2 horas em um - teste oral de tolerância à glicose\n",
    "- Pressão arterial diastólica (mm Hg)\n",
    "- Espessura da dobra da pele do tríceps (mm)\n",
    "- Insulina sérica de 2 horas (muU/ml)\n",
    "- Índice de massa corporal (kg/m2) \n",
    "- Diabetes Pedigree Function  (tendência ao desenvolvimento de diabetes) \n",
    "- Resultado: (0 = não possui diabetes ou 1 = possui diabetes)\n",
    "\n",
    "\n",
    "\n"
   ]
  },
  {
   "cell_type": "markdown",
   "id": "7f3dfc02",
   "metadata": {},
   "source": [
    "### 1) Leitura dos dados"
   ]
  },
  {
   "cell_type": "code",
   "execution_count": 1,
   "id": "988e0e56",
   "metadata": {},
   "outputs": [],
   "source": [
    "import pandas as pd"
   ]
  },
  {
   "cell_type": "code",
   "execution_count": 2,
   "id": "c939b921",
   "metadata": {},
   "outputs": [
    {
     "data": {
      "text/html": [
       "<div>\n",
       "<style scoped>\n",
       "    .dataframe tbody tr th:only-of-type {\n",
       "        vertical-align: middle;\n",
       "    }\n",
       "\n",
       "    .dataframe tbody tr th {\n",
       "        vertical-align: top;\n",
       "    }\n",
       "\n",
       "    .dataframe thead th {\n",
       "        text-align: right;\n",
       "    }\n",
       "</style>\n",
       "<table border=\"1\" class=\"dataframe\">\n",
       "  <thead>\n",
       "    <tr style=\"text-align: right;\">\n",
       "      <th></th>\n",
       "      <th>Pregnancies</th>\n",
       "      <th>Glucose</th>\n",
       "      <th>BloodPressure</th>\n",
       "      <th>SkinThickness</th>\n",
       "      <th>Insulin</th>\n",
       "      <th>BMI</th>\n",
       "      <th>DiabetesPedigreeFunction</th>\n",
       "      <th>Age</th>\n",
       "      <th>Outcome</th>\n",
       "    </tr>\n",
       "  </thead>\n",
       "  <tbody>\n",
       "    <tr>\n",
       "      <th>0</th>\n",
       "      <td>6</td>\n",
       "      <td>148</td>\n",
       "      <td>72</td>\n",
       "      <td>35</td>\n",
       "      <td>0</td>\n",
       "      <td>33.6</td>\n",
       "      <td>0.627</td>\n",
       "      <td>50</td>\n",
       "      <td>1</td>\n",
       "    </tr>\n",
       "    <tr>\n",
       "      <th>1</th>\n",
       "      <td>1</td>\n",
       "      <td>85</td>\n",
       "      <td>66</td>\n",
       "      <td>29</td>\n",
       "      <td>0</td>\n",
       "      <td>26.6</td>\n",
       "      <td>0.351</td>\n",
       "      <td>31</td>\n",
       "      <td>0</td>\n",
       "    </tr>\n",
       "    <tr>\n",
       "      <th>2</th>\n",
       "      <td>8</td>\n",
       "      <td>183</td>\n",
       "      <td>64</td>\n",
       "      <td>0</td>\n",
       "      <td>0</td>\n",
       "      <td>23.3</td>\n",
       "      <td>0.672</td>\n",
       "      <td>32</td>\n",
       "      <td>1</td>\n",
       "    </tr>\n",
       "    <tr>\n",
       "      <th>3</th>\n",
       "      <td>1</td>\n",
       "      <td>89</td>\n",
       "      <td>66</td>\n",
       "      <td>23</td>\n",
       "      <td>94</td>\n",
       "      <td>28.1</td>\n",
       "      <td>0.167</td>\n",
       "      <td>21</td>\n",
       "      <td>0</td>\n",
       "    </tr>\n",
       "    <tr>\n",
       "      <th>4</th>\n",
       "      <td>0</td>\n",
       "      <td>137</td>\n",
       "      <td>40</td>\n",
       "      <td>35</td>\n",
       "      <td>168</td>\n",
       "      <td>43.1</td>\n",
       "      <td>2.288</td>\n",
       "      <td>33</td>\n",
       "      <td>1</td>\n",
       "    </tr>\n",
       "  </tbody>\n",
       "</table>\n",
       "</div>"
      ],
      "text/plain": [
       "   Pregnancies  Glucose  BloodPressure  SkinThickness  Insulin   BMI  \\\n",
       "0            6      148             72             35        0  33.6   \n",
       "1            1       85             66             29        0  26.6   \n",
       "2            8      183             64              0        0  23.3   \n",
       "3            1       89             66             23       94  28.1   \n",
       "4            0      137             40             35      168  43.1   \n",
       "\n",
       "   DiabetesPedigreeFunction  Age  Outcome  \n",
       "0                     0.627   50        1  \n",
       "1                     0.351   31        0  \n",
       "2                     0.672   32        1  \n",
       "3                     0.167   21        0  \n",
       "4                     2.288   33        1  "
      ]
     },
     "execution_count": 2,
     "metadata": {},
     "output_type": "execute_result"
    }
   ],
   "source": [
    "data=pd.read_csv('diabetes.csv') \n",
    "data.head()"
   ]
  },
  {
   "cell_type": "markdown",
   "id": "240eff13",
   "metadata": {},
   "source": [
    "### 2) Identificando dados de entrada e dados de saída\n",
    "Obs: Nenhum outro tratamento foi feito neste dataset (Remover dados duplicados, remover outliers, remover dados faltantes, remover ou substituir dados incompletos, feature engineering)"
   ]
  },
  {
   "cell_type": "code",
   "execution_count": 3,
   "id": "0ca6cefb",
   "metadata": {},
   "outputs": [],
   "source": [
    "X = data[['Pregnancies','Glucose','BloodPressure','SkinThickness','Insulin','BMI', 'DiabetesPedigreeFunction', 'Age']].values\n",
    "Y=data['Outcome'].values"
   ]
  },
  {
   "cell_type": "markdown",
   "id": "2884a3f3",
   "metadata": {},
   "source": [
    "### 3) Separando dados para treino, validação e teste"
   ]
  },
  {
   "cell_type": "code",
   "execution_count": 4,
   "id": "31bd3dc7",
   "metadata": {},
   "outputs": [],
   "source": [
    "import numpy as np\n",
    "from sklearn.model_selection import train_test_split"
   ]
  },
  {
   "cell_type": "code",
   "execution_count": 5,
   "id": "ef83d45f",
   "metadata": {},
   "outputs": [
    {
     "name": "stdout",
     "output_type": "stream",
     "text": [
      "treino: (552, 8)\n",
      "teste: (77, 8)\n",
      "validação: (139, 8)\n"
     ]
    }
   ],
   "source": [
    "X2, X_test, y2, y_test = train_test_split(X, Y, test_size=0.1,random_state=20,shuffle=True,stratify=Y) #separei 10% para teste, restante chamei de X2\n",
    "X_train, X_val, y_train, y_val = train_test_split(X2, y2, test_size=0.2,random_state=20,shuffle=True,stratify=y2) #separei 10% para teste, restante chamei de X2\n",
    "\n",
    "print('treino:',np.shape(X_train))\n",
    "print('teste:',np.shape(X_test))\n",
    "print('validação:',np.shape(X_val))"
   ]
  },
  {
   "cell_type": "markdown",
   "id": "7d4bb88e",
   "metadata": {},
   "source": [
    "# <font color='blue'> Modelo de classificação binária </font>"
   ]
  },
  {
   "cell_type": "markdown",
   "id": "e47093e8",
   "metadata": {},
   "source": [
    "### Criação do modelo"
   ]
  },
  {
   "cell_type": "code",
   "execution_count": 6,
   "id": "64b4b47e",
   "metadata": {},
   "outputs": [],
   "source": [
    "#primeiro vamos unir conjunto de treino e validação em um só conjunto.\n",
    "inputs = np.concatenate((X_train, X_val), axis=0)\n",
    "targets = np.concatenate((y_train, y_val), axis=0)"
   ]
  },
  {
   "cell_type": "code",
   "execution_count": 7,
   "id": "8d111ce4",
   "metadata": {
    "scrolled": true
   },
   "outputs": [
    {
     "name": "stdout",
     "output_type": "stream",
     "text": [
      "inputs: (691, 8)\n",
      "targets: (691,)\n"
     ]
    }
   ],
   "source": [
    "print('inputs:',np.shape(inputs))\n",
    "print('targets:',np.shape(targets))\n"
   ]
  },
  {
   "cell_type": "markdown",
   "id": "ef74dedf",
   "metadata": {},
   "source": [
    "### Etapa da Validação Cruzada (Kfolds) e criação do modelo\n"
   ]
  },
  {
   "cell_type": "code",
   "execution_count": 8,
   "id": "bad0c76e",
   "metadata": {},
   "outputs": [],
   "source": [
    "import tensorflow as tf\n",
    "import keras as ke\n",
    "from sklearn.model_selection import KFold\n",
    "from keras import layers\n",
    "from keras.layers import Dropout"
   ]
  },
  {
   "cell_type": "code",
   "execution_count": 9,
   "id": "919871f4",
   "metadata": {
    "scrolled": false
   },
   "outputs": [
    {
     "name": "stdout",
     "output_type": "stream",
     "text": [
      "Model: \"sequential\"\n",
      "_________________________________________________________________\n",
      " Layer (type)                Output Shape              Param #   \n",
      "=================================================================\n",
      " dense (Dense)               (None, 10)                90        \n",
      "                                                                 \n",
      " dense_1 (Dense)             (None, 1)                 11        \n",
      "                                                                 \n",
      "=================================================================\n",
      "Total params: 101\n",
      "Trainable params: 101\n",
      "Non-trainable params: 0\n",
      "_________________________________________________________________\n",
      "------------------------------------------------------------------------\n",
      "Treinamento para o fold 5 ..\n",
      "Epoch 1/20\n",
      "18/18 [==============================] - 2s 26ms/step - loss: 11.0985 - accuracy: 0.6051 - val_loss: 9.0813 - val_accuracy: 0.6187\n",
      "Epoch 2/20\n",
      "18/18 [==============================] - 0s 6ms/step - loss: 8.8397 - accuracy: 0.6033 - val_loss: 7.3007 - val_accuracy: 0.5899\n",
      "Epoch 3/20\n",
      "18/18 [==============================] - 0s 7ms/step - loss: 7.1597 - accuracy: 0.5797 - val_loss: 5.9659 - val_accuracy: 0.5755\n",
      "Epoch 4/20\n",
      "18/18 [==============================] - 0s 8ms/step - loss: 5.9008 - accuracy: 0.5833 - val_loss: 5.0035 - val_accuracy: 0.5827\n",
      "Epoch 5/20\n",
      "18/18 [==============================] - 0s 7ms/step - loss: 5.0274 - accuracy: 0.5743 - val_loss: 4.4823 - val_accuracy: 0.5899\n",
      "Epoch 6/20\n",
      "18/18 [==============================] - 0s 8ms/step - loss: 4.3999 - accuracy: 0.5743 - val_loss: 4.1951 - val_accuracy: 0.5683\n",
      "Epoch 7/20\n",
      "18/18 [==============================] - 0s 7ms/step - loss: 3.9010 - accuracy: 0.5833 - val_loss: 3.9142 - val_accuracy: 0.5396\n",
      "Epoch 8/20\n",
      "18/18 [==============================] - 0s 7ms/step - loss: 3.6031 - accuracy: 0.5670 - val_loss: 3.6069 - val_accuracy: 0.5612\n",
      "Epoch 9/20\n",
      "18/18 [==============================] - 0s 7ms/step - loss: 3.3688 - accuracy: 0.5688 - val_loss: 3.5294 - val_accuracy: 0.5396\n",
      "Epoch 10/20\n",
      "18/18 [==============================] - 0s 7ms/step - loss: 3.1945 - accuracy: 0.5707 - val_loss: 3.2623 - val_accuracy: 0.5971\n",
      "Epoch 11/20\n",
      "18/18 [==============================] - 0s 6ms/step - loss: 3.0662 - accuracy: 0.5543 - val_loss: 3.2800 - val_accuracy: 0.5324\n",
      "Epoch 12/20\n",
      "18/18 [==============================] - 0s 7ms/step - loss: 2.8489 - accuracy: 0.5616 - val_loss: 3.3457 - val_accuracy: 0.5396\n",
      "Epoch 13/20\n",
      "18/18 [==============================] - 0s 7ms/step - loss: 2.6802 - accuracy: 0.5634 - val_loss: 2.8933 - val_accuracy: 0.5468\n",
      "Epoch 14/20\n",
      "18/18 [==============================] - 0s 7ms/step - loss: 2.5071 - accuracy: 0.5761 - val_loss: 2.5447 - val_accuracy: 0.5971\n",
      "Epoch 15/20\n",
      "18/18 [==============================] - 0s 7ms/step - loss: 2.3996 - accuracy: 0.5543 - val_loss: 2.3502 - val_accuracy: 0.5612\n",
      "Epoch 16/20\n",
      "18/18 [==============================] - 0s 7ms/step - loss: 2.2109 - accuracy: 0.5743 - val_loss: 2.3365 - val_accuracy: 0.5468\n",
      "Epoch 17/20\n",
      "18/18 [==============================] - 0s 7ms/step - loss: 2.0885 - accuracy: 0.5725 - val_loss: 2.5139 - val_accuracy: 0.5468\n",
      "Epoch 18/20\n",
      "18/18 [==============================] - 0s 6ms/step - loss: 1.9652 - accuracy: 0.5924 - val_loss: 1.9302 - val_accuracy: 0.5612\n",
      "Epoch 19/20\n",
      "18/18 [==============================] - 0s 6ms/step - loss: 1.8722 - accuracy: 0.5471 - val_loss: 1.8375 - val_accuracy: 0.5612\n",
      "Epoch 20/20\n",
      "18/18 [==============================] - 0s 7ms/step - loss: 1.7186 - accuracy: 0.5652 - val_loss: 1.7669 - val_accuracy: 0.5755\n",
      "Score para o fold 5: loss de 1.7669328451156616; accuracy de 57.553958892822266%\n",
      "Model: \"sequential_1\"\n",
      "_________________________________________________________________\n",
      " Layer (type)                Output Shape              Param #   \n",
      "=================================================================\n",
      " dense_2 (Dense)             (None, 10)                90        \n",
      "                                                                 \n",
      " dense_3 (Dense)             (None, 1)                 11        \n",
      "                                                                 \n",
      "=================================================================\n",
      "Total params: 101\n",
      "Trainable params: 101\n",
      "Non-trainable params: 0\n",
      "_________________________________________________________________\n",
      "------------------------------------------------------------------------\n",
      "Treinamento para o fold 6 ..\n",
      "Epoch 1/20\n",
      "18/18 [==============================] - 1s 22ms/step - loss: 2.7659 - accuracy: 0.5335 - val_loss: 3.3343 - val_accuracy: 0.5217\n",
      "Epoch 2/20\n",
      "18/18 [==============================] - 0s 6ms/step - loss: 2.3131 - accuracy: 0.5696 - val_loss: 2.8401 - val_accuracy: 0.5217\n",
      "Epoch 3/20\n",
      "18/18 [==============================] - 0s 6ms/step - loss: 2.0850 - accuracy: 0.5769 - val_loss: 2.4982 - val_accuracy: 0.5507\n",
      "Epoch 4/20\n",
      "18/18 [==============================] - 0s 6ms/step - loss: 1.8893 - accuracy: 0.5823 - val_loss: 2.3149 - val_accuracy: 0.5580\n",
      "Epoch 5/20\n",
      "18/18 [==============================] - 0s 5ms/step - loss: 1.7680 - accuracy: 0.5750 - val_loss: 2.1660 - val_accuracy: 0.5507\n",
      "Epoch 6/20\n",
      "18/18 [==============================] - 0s 6ms/step - loss: 1.6460 - accuracy: 0.5895 - val_loss: 2.0493 - val_accuracy: 0.5652\n",
      "Epoch 7/20\n",
      "18/18 [==============================] - 0s 6ms/step - loss: 1.5286 - accuracy: 0.6058 - val_loss: 1.9139 - val_accuracy: 0.5725\n",
      "Epoch 8/20\n",
      "18/18 [==============================] - 0s 6ms/step - loss: 1.4396 - accuracy: 0.6022 - val_loss: 1.8942 - val_accuracy: 0.5942\n",
      "Epoch 9/20\n",
      "18/18 [==============================] - 0s 6ms/step - loss: 1.3912 - accuracy: 0.6004 - val_loss: 1.7470 - val_accuracy: 0.5580\n",
      "Epoch 10/20\n",
      "18/18 [==============================] - 0s 6ms/step - loss: 1.3179 - accuracy: 0.6239 - val_loss: 1.6796 - val_accuracy: 0.5580\n",
      "Epoch 11/20\n",
      "18/18 [==============================] - 0s 6ms/step - loss: 1.2720 - accuracy: 0.6166 - val_loss: 1.6160 - val_accuracy: 0.5725\n",
      "Epoch 12/20\n",
      "18/18 [==============================] - 0s 6ms/step - loss: 1.2193 - accuracy: 0.6221 - val_loss: 1.5638 - val_accuracy: 0.6014\n",
      "Epoch 13/20\n",
      "18/18 [==============================] - 0s 6ms/step - loss: 1.1682 - accuracy: 0.6257 - val_loss: 1.4967 - val_accuracy: 0.5507\n",
      "Epoch 14/20\n",
      "18/18 [==============================] - 0s 6ms/step - loss: 1.1229 - accuracy: 0.6239 - val_loss: 1.4252 - val_accuracy: 0.5507\n",
      "Epoch 15/20\n",
      "18/18 [==============================] - 0s 6ms/step - loss: 1.0766 - accuracy: 0.6347 - val_loss: 1.4189 - val_accuracy: 0.5507\n",
      "Epoch 16/20\n",
      "18/18 [==============================] - 0s 6ms/step - loss: 1.0562 - accuracy: 0.6329 - val_loss: 1.3512 - val_accuracy: 0.5797\n",
      "Epoch 17/20\n",
      "18/18 [==============================] - 0s 5ms/step - loss: 1.0216 - accuracy: 0.6329 - val_loss: 1.3001 - val_accuracy: 0.5580\n",
      "Epoch 18/20\n",
      "18/18 [==============================] - 0s 6ms/step - loss: 0.9909 - accuracy: 0.6492 - val_loss: 1.2927 - val_accuracy: 0.5797\n",
      "Epoch 19/20\n",
      "18/18 [==============================] - 0s 6ms/step - loss: 0.9839 - accuracy: 0.6456 - val_loss: 1.2645 - val_accuracy: 0.5797\n",
      "Epoch 20/20\n",
      "18/18 [==============================] - 0s 6ms/step - loss: 0.9524 - accuracy: 0.6401 - val_loss: 1.2078 - val_accuracy: 0.5797\n",
      "Score para o fold 6: loss de 1.2078380584716797; accuracy de 57.971012592315674%\n",
      "Model: \"sequential_2\"\n",
      "_________________________________________________________________\n",
      " Layer (type)                Output Shape              Param #   \n",
      "=================================================================\n",
      " dense_4 (Dense)             (None, 10)                90        \n",
      "                                                                 \n",
      " dense_5 (Dense)             (None, 1)                 11        \n",
      "                                                                 \n",
      "=================================================================\n",
      "Total params: 101\n",
      "Trainable params: 101\n",
      "Non-trainable params: 0\n",
      "_________________________________________________________________\n",
      "------------------------------------------------------------------------\n",
      "Treinamento para o fold 7 ..\n",
      "Epoch 1/20\n"
     ]
    },
    {
     "name": "stdout",
     "output_type": "stream",
     "text": [
      "18/18 [==============================] - 1s 22ms/step - loss: 7.5157 - accuracy: 0.4901 - val_loss: 7.0565 - val_accuracy: 0.4928\n",
      "Epoch 2/20\n",
      "18/18 [==============================] - 0s 6ms/step - loss: 6.3504 - accuracy: 0.4955 - val_loss: 6.2894 - val_accuracy: 0.5145\n",
      "Epoch 3/20\n",
      "18/18 [==============================] - 0s 6ms/step - loss: 5.7160 - accuracy: 0.4919 - val_loss: 5.8016 - val_accuracy: 0.4928\n",
      "Epoch 4/20\n",
      "18/18 [==============================] - 0s 6ms/step - loss: 5.2060 - accuracy: 0.5045 - val_loss: 5.3489 - val_accuracy: 0.5000\n",
      "Epoch 5/20\n",
      "18/18 [==============================] - 0s 6ms/step - loss: 4.7815 - accuracy: 0.5190 - val_loss: 4.9559 - val_accuracy: 0.5217\n",
      "Epoch 6/20\n",
      "18/18 [==============================] - 0s 6ms/step - loss: 4.3547 - accuracy: 0.5208 - val_loss: 4.7448 - val_accuracy: 0.5290\n",
      "Epoch 7/20\n",
      "18/18 [==============================] - 0s 6ms/step - loss: 3.9781 - accuracy: 0.5371 - val_loss: 4.3920 - val_accuracy: 0.5145\n",
      "Epoch 8/20\n",
      "18/18 [==============================] - 0s 6ms/step - loss: 3.6476 - accuracy: 0.5335 - val_loss: 4.0098 - val_accuracy: 0.5435\n",
      "Epoch 9/20\n",
      "18/18 [==============================] - 0s 6ms/step - loss: 3.3131 - accuracy: 0.5461 - val_loss: 3.7767 - val_accuracy: 0.5797\n",
      "Epoch 10/20\n",
      "18/18 [==============================] - 0s 5ms/step - loss: 3.0092 - accuracy: 0.5533 - val_loss: 3.6984 - val_accuracy: 0.5652\n",
      "Epoch 11/20\n",
      "18/18 [==============================] - 0s 6ms/step - loss: 2.8020 - accuracy: 0.5389 - val_loss: 3.2926 - val_accuracy: 0.5652\n",
      "Epoch 12/20\n",
      "18/18 [==============================] - 0s 4ms/step - loss: 2.5965 - accuracy: 0.5588 - val_loss: 3.1104 - val_accuracy: 0.6377\n",
      "Epoch 13/20\n",
      "18/18 [==============================] - 0s 6ms/step - loss: 2.4133 - accuracy: 0.5895 - val_loss: 2.8879 - val_accuracy: 0.5942\n",
      "Epoch 14/20\n",
      "18/18 [==============================] - 0s 7ms/step - loss: 2.2836 - accuracy: 0.5823 - val_loss: 2.8757 - val_accuracy: 0.6159\n",
      "Epoch 15/20\n",
      "18/18 [==============================] - 0s 6ms/step - loss: 2.1147 - accuracy: 0.6221 - val_loss: 2.5364 - val_accuracy: 0.6449\n",
      "Epoch 16/20\n",
      "18/18 [==============================] - 0s 6ms/step - loss: 1.9946 - accuracy: 0.6076 - val_loss: 2.5688 - val_accuracy: 0.6087\n",
      "Epoch 17/20\n",
      "18/18 [==============================] - 0s 6ms/step - loss: 1.8632 - accuracy: 0.6221 - val_loss: 2.2599 - val_accuracy: 0.5580\n",
      "Epoch 18/20\n",
      "18/18 [==============================] - 0s 6ms/step - loss: 1.7554 - accuracy: 0.6058 - val_loss: 2.0339 - val_accuracy: 0.6739\n",
      "Epoch 19/20\n",
      "18/18 [==============================] - 0s 6ms/step - loss: 1.6111 - accuracy: 0.6184 - val_loss: 1.9618 - val_accuracy: 0.6377\n",
      "Epoch 20/20\n",
      "18/18 [==============================] - 0s 6ms/step - loss: 1.5497 - accuracy: 0.6076 - val_loss: 1.7431 - val_accuracy: 0.6304\n",
      "Score para o fold 7: loss de 1.7431457042694092; accuracy de 63.04348111152649%\n",
      "Model: \"sequential_3\"\n",
      "_________________________________________________________________\n",
      " Layer (type)                Output Shape              Param #   \n",
      "=================================================================\n",
      " dense_6 (Dense)             (None, 10)                90        \n",
      "                                                                 \n",
      " dense_7 (Dense)             (None, 1)                 11        \n",
      "                                                                 \n",
      "=================================================================\n",
      "Total params: 101\n",
      "Trainable params: 101\n",
      "Non-trainable params: 0\n",
      "_________________________________________________________________\n",
      "------------------------------------------------------------------------\n",
      "Treinamento para o fold 8 ..\n",
      "Epoch 1/20\n",
      "18/18 [==============================] - 1s 22ms/step - loss: 7.4280 - accuracy: 0.4557 - val_loss: 5.0398 - val_accuracy: 0.4420\n",
      "Epoch 2/20\n",
      "18/18 [==============================] - 0s 6ms/step - loss: 6.1638 - accuracy: 0.4629 - val_loss: 3.8454 - val_accuracy: 0.5072\n",
      "Epoch 3/20\n",
      "18/18 [==============================] - 0s 5ms/step - loss: 5.0206 - accuracy: 0.4810 - val_loss: 2.9723 - val_accuracy: 0.5290\n",
      "Epoch 4/20\n",
      "18/18 [==============================] - 0s 5ms/step - loss: 4.0582 - accuracy: 0.4919 - val_loss: 2.4605 - val_accuracy: 0.5435\n",
      "Epoch 5/20\n",
      "18/18 [==============================] - 0s 6ms/step - loss: 3.2983 - accuracy: 0.4937 - val_loss: 2.0811 - val_accuracy: 0.5217\n",
      "Epoch 6/20\n",
      "18/18 [==============================] - 0s 5ms/step - loss: 2.7100 - accuracy: 0.5136 - val_loss: 1.8774 - val_accuracy: 0.5217\n",
      "Epoch 7/20\n",
      "18/18 [==============================] - 0s 6ms/step - loss: 2.2891 - accuracy: 0.5118 - val_loss: 1.6208 - val_accuracy: 0.5507\n",
      "Epoch 8/20\n",
      "18/18 [==============================] - 0s 5ms/step - loss: 2.0254 - accuracy: 0.5244 - val_loss: 1.4041 - val_accuracy: 0.5942\n",
      "Epoch 9/20\n",
      "18/18 [==============================] - 0s 6ms/step - loss: 1.8189 - accuracy: 0.5642 - val_loss: 1.3263 - val_accuracy: 0.6232\n",
      "Epoch 10/20\n",
      "18/18 [==============================] - 0s 6ms/step - loss: 1.6982 - accuracy: 0.5606 - val_loss: 1.3096 - val_accuracy: 0.6232\n",
      "Epoch 11/20\n",
      "18/18 [==============================] - 0s 6ms/step - loss: 1.6041 - accuracy: 0.5696 - val_loss: 1.3390 - val_accuracy: 0.6014\n",
      "Epoch 12/20\n",
      "18/18 [==============================] - 0s 6ms/step - loss: 1.5483 - accuracy: 0.5642 - val_loss: 1.2720 - val_accuracy: 0.6449\n",
      "Epoch 13/20\n",
      "18/18 [==============================] - 0s 6ms/step - loss: 1.4617 - accuracy: 0.5895 - val_loss: 1.2582 - val_accuracy: 0.5942\n",
      "Epoch 14/20\n",
      "18/18 [==============================] - 0s 6ms/step - loss: 1.4412 - accuracy: 0.5895 - val_loss: 1.3418 - val_accuracy: 0.5580\n",
      "Epoch 15/20\n",
      "18/18 [==============================] - 0s 5ms/step - loss: 1.3700 - accuracy: 0.5877 - val_loss: 1.4250 - val_accuracy: 0.5652\n",
      "Epoch 16/20\n",
      "18/18 [==============================] - 0s 5ms/step - loss: 1.3261 - accuracy: 0.6058 - val_loss: 1.1928 - val_accuracy: 0.6522\n",
      "Epoch 17/20\n",
      "18/18 [==============================] - 0s 5ms/step - loss: 1.2901 - accuracy: 0.6130 - val_loss: 1.1597 - val_accuracy: 0.6159\n",
      "Epoch 18/20\n",
      "18/18 [==============================] - 0s 6ms/step - loss: 1.2492 - accuracy: 0.6148 - val_loss: 1.0640 - val_accuracy: 0.6739\n",
      "Epoch 19/20\n",
      "18/18 [==============================] - 0s 5ms/step - loss: 1.2505 - accuracy: 0.5967 - val_loss: 1.1656 - val_accuracy: 0.6014\n",
      "Epoch 20/20\n",
      "18/18 [==============================] - 0s 5ms/step - loss: 1.1966 - accuracy: 0.6221 - val_loss: 1.2451 - val_accuracy: 0.5290\n",
      "Score para o fold 8: loss de 1.245054006576538; accuracy de 52.898550033569336%\n",
      "Model: \"sequential_4\"\n",
      "_________________________________________________________________\n",
      " Layer (type)                Output Shape              Param #   \n",
      "=================================================================\n",
      " dense_8 (Dense)             (None, 10)                90        \n",
      "                                                                 \n",
      " dense_9 (Dense)             (None, 1)                 11        \n",
      "                                                                 \n",
      "=================================================================\n",
      "Total params: 101\n",
      "Trainable params: 101\n",
      "Non-trainable params: 0\n",
      "_________________________________________________________________\n",
      "------------------------------------------------------------------------\n",
      "Treinamento para o fold 9 ..\n",
      "Epoch 1/20\n",
      "18/18 [==============================] - 1s 19ms/step - loss: 16.4741 - accuracy: 0.6456 - val_loss: 12.6555 - val_accuracy: 0.6812\n",
      "Epoch 2/20\n",
      "18/18 [==============================] - 0s 5ms/step - loss: 10.4313 - accuracy: 0.6492 - val_loss: 8.3696 - val_accuracy: 0.6812\n",
      "Epoch 3/20\n",
      "18/18 [==============================] - 0s 5ms/step - loss: 6.7046 - accuracy: 0.6257 - val_loss: 5.3579 - val_accuracy: 0.6377\n",
      "Epoch 4/20\n",
      "18/18 [==============================] - 0s 6ms/step - loss: 4.2925 - accuracy: 0.5967 - val_loss: 3.6496 - val_accuracy: 0.5290\n",
      "Epoch 5/20\n",
      "18/18 [==============================] - 0s 5ms/step - loss: 3.2154 - accuracy: 0.5859 - val_loss: 2.8371 - val_accuracy: 0.5652\n",
      "Epoch 6/20\n",
      "18/18 [==============================] - 0s 6ms/step - loss: 2.8056 - accuracy: 0.5913 - val_loss: 2.5275 - val_accuracy: 0.5217\n",
      "Epoch 7/20\n"
     ]
    },
    {
     "name": "stdout",
     "output_type": "stream",
     "text": [
      "18/18 [==============================] - 0s 5ms/step - loss: 2.6427 - accuracy: 0.5660 - val_loss: 2.4268 - val_accuracy: 0.5217\n",
      "Epoch 8/20\n",
      "18/18 [==============================] - 0s 6ms/step - loss: 2.4605 - accuracy: 0.5696 - val_loss: 2.3302 - val_accuracy: 0.5217\n",
      "Epoch 9/20\n",
      "18/18 [==============================] - 0s 6ms/step - loss: 2.3188 - accuracy: 0.5913 - val_loss: 2.1276 - val_accuracy: 0.5072\n",
      "Epoch 10/20\n",
      "18/18 [==============================] - 0s 6ms/step - loss: 2.1892 - accuracy: 0.5859 - val_loss: 2.0666 - val_accuracy: 0.5000\n",
      "Epoch 11/20\n",
      "18/18 [==============================] - 0s 6ms/step - loss: 2.0637 - accuracy: 0.5877 - val_loss: 2.0299 - val_accuracy: 0.4783\n",
      "Epoch 12/20\n",
      "18/18 [==============================] - 0s 6ms/step - loss: 1.9525 - accuracy: 0.5913 - val_loss: 2.2299 - val_accuracy: 0.4638\n",
      "Epoch 13/20\n",
      "18/18 [==============================] - 0s 5ms/step - loss: 1.8698 - accuracy: 0.5805 - val_loss: 1.8482 - val_accuracy: 0.5072\n",
      "Epoch 14/20\n",
      "18/18 [==============================] - 0s 6ms/step - loss: 1.7546 - accuracy: 0.5895 - val_loss: 1.7980 - val_accuracy: 0.4493\n",
      "Epoch 15/20\n",
      "18/18 [==============================] - 0s 6ms/step - loss: 1.6535 - accuracy: 0.5841 - val_loss: 1.6924 - val_accuracy: 0.5362\n",
      "Epoch 16/20\n",
      "18/18 [==============================] - 0s 6ms/step - loss: 1.5979 - accuracy: 0.5986 - val_loss: 1.6086 - val_accuracy: 0.5145\n",
      "Epoch 17/20\n",
      "18/18 [==============================] - 0s 6ms/step - loss: 1.5083 - accuracy: 0.5967 - val_loss: 1.6095 - val_accuracy: 0.4783\n",
      "Epoch 18/20\n",
      "18/18 [==============================] - 0s 6ms/step - loss: 1.4531 - accuracy: 0.5787 - val_loss: 1.4973 - val_accuracy: 0.5362\n",
      "Epoch 19/20\n",
      "18/18 [==============================] - 0s 6ms/step - loss: 1.3876 - accuracy: 0.5805 - val_loss: 1.5107 - val_accuracy: 0.5725\n",
      "Epoch 20/20\n",
      "18/18 [==============================] - 0s 6ms/step - loss: 1.3371 - accuracy: 0.5805 - val_loss: 1.4102 - val_accuracy: 0.4928\n",
      "Score para o fold 9: loss de 1.4102202653884888; accuracy de 49.275362491607666%\n",
      "------------------------------------------------------------------------\n",
      "Scores para cada um dos folds:\n",
      "------------------------------------------------------------------------\n",
      "> Fold 1 - Loss: 1.7669328451156616 - Accurácia: 57.553958892822266%\n",
      "------------------------------------------------------------------------\n",
      "> Fold 2 - Loss: 1.2078380584716797 - Accurácia: 57.971012592315674%\n",
      "------------------------------------------------------------------------\n",
      "> Fold 3 - Loss: 1.7431457042694092 - Accurácia: 63.04348111152649%\n",
      "------------------------------------------------------------------------\n",
      "> Fold 4 - Loss: 1.245054006576538 - Accurácia: 52.898550033569336%\n",
      "------------------------------------------------------------------------\n",
      "> Fold 5 - Loss: 1.4102202653884888 - Accurácia: 49.275362491607666%\n",
      "------------------------------------------------------------------------\n",
      "Média dos scores para todos os folds:\n",
      "> Accurácia: 56.148473024368286 (+- 4.704037103739792)\n",
      "> Loss: 1.4746381759643554\n",
      "------------------------------------------------------------------------\n",
      "> Tamanho do conjunto de treinamento e conjunto de teste por fold: (553, 138)\n"
     ]
    }
   ],
   "source": [
    "tf.random.set_seed(20)   # fixar o pseudo-random generator do tensorflow\n",
    "np.random.seed(20)       # fixar o pseudo-random generator do numpy\n",
    "\n",
    "#https://scikit-learn.org/stable/modules/generated/sklearn.model_selection.KFold.html\n",
    "\n",
    "\n",
    "#numero de folds: \n",
    "num_folds = 5\n",
    "\n",
    "# Define per-fold score containers\n",
    "acc_por_fold = []\n",
    "loss_por_fold = []\n",
    "\n",
    "\n",
    "# Define the K-fold Cross Validator\n",
    "kfold = KFold(n_splits=num_folds, shuffle=True)\n",
    "\n",
    "# K-fold Cross Validation model evaluation\n",
    "\n",
    "fold_no = num_folds\n",
    "for train, test in kfold.split(inputs, targets):\n",
    "      \n",
    "# Define the model architecture  \n",
    "    \n",
    "   model = ke.Sequential()\n",
    "   model.add(ke.layers.Input(X_train.shape[1],))  #Camada de entrada: informando ao modelo quantas features eu tenho na entrada\n",
    "   model.add(ke.layers.Dense(10, activation='relu'))\n",
    "   #model.add(ke.layers.Dense(10, activation='relu'))\n",
    "   #model.add(Dropout(0.20))\n",
    "   model.add(ke.layers.Dense(1, activation='sigmoid')) # modelos de classificação binária sempre devem ter 1 neurônio na última camada\n",
    "\n",
    "   model.summary()\n",
    "\n",
    "  \n",
    "  # Compile the model\n",
    "   model.compile(loss='binary_crossentropy',metrics=['accuracy'])\n",
    "\n",
    "\n",
    "  # Generate a print\n",
    "   print('------------------------------------------------------------------------')\n",
    "   print(f'Treinamento para o fold {fold_no} ..')\n",
    "\n",
    "  # Fit data to model\n",
    "   history = model.fit(inputs[train], targets[train],\n",
    "              epochs=20,\n",
    "              validation_data=(inputs[test], targets[test]) # aqui estamos monitorando os exemplos de validacao\n",
    "               )\n",
    "   \n",
    " # Generate generalization metrics\n",
    "  \n",
    "   score, acc =  model.evaluate(inputs[test], targets[test], verbose=0)\n",
    "   print(f'Score para o fold {fold_no}: {model.metrics_names[0]} de {score}; {model.metrics_names[1]} de {acc*100}%')\n",
    "   acc_por_fold.append(acc * 100) # aqui estamos criando uma lista com as accs dos 5 folds\n",
    "   loss_por_fold.append(score)    # aqui estamos criando uma lista com as loss dos 5 folds\n",
    "\n",
    "  # Increase fold number\n",
    "   fold_no = fold_no + 1\n",
    "\n",
    "# == Provide average scores ==\n",
    "print('------------------------------------------------------------------------')\n",
    "print('Scores para cada um dos folds:')\n",
    "\n",
    "for i in range(0, len(acc_por_fold)):\n",
    "  print('------------------------------------------------------------------------')\n",
    "  print(f'> Fold {i+1} - Loss: {loss_por_fold[i]} - Accurácia: {acc_por_fold[i]}%')\n",
    "    \n",
    "print('------------------------------------------------------------------------')\n",
    "print('Média dos scores para todos os folds:')\n",
    "print(f'> Accurácia: {np.mean(acc_por_fold)} (+- {np.std(acc_por_fold)})')\n",
    "print(f'> Loss: {np.mean(loss_por_fold)}')\n",
    "print('------------------------------------------------------------------------')\n",
    "print(f'> Tamanho do conjunto de treinamento e conjunto de teste por fold: {(len(train), len(test))}')\n",
    "\n",
    "\n",
    "\n"
   ]
  },
  {
   "cell_type": "markdown",
   "id": "313534f5",
   "metadata": {},
   "source": [
    "### Curvas de aprendizado (visualização do último fold)"
   ]
  },
  {
   "cell_type": "code",
   "execution_count": 10,
   "id": "3cc02da0",
   "metadata": {
    "scrolled": true
   },
   "outputs": [
    {
     "data": {
      "image/png": "[encoded data removed]",
      "text/plain": [
       "<Figure size 1080x360 with 2 Axes>"
      ]
     },
     "metadata": {
      "needs_background": "light"
     },
     "output_type": "display_data"
    }
   ],
   "source": [
    "import matplotlib.pyplot as plt\n",
    "\n",
    "plt.figure(figsize=(15,5))\n",
    "plt.subplot(1,2,1)\n",
    "plt.plot(history.history[\"loss\"], label=\"treino\")\n",
    "plt.plot(history.history[\"val_loss\"], label=\"validacao\")\n",
    "plt.xlabel(\"epocas\")\n",
    "plt.ylabel(\"Loss\")\n",
    "plt.legend();\n",
    "\n",
    "plt.subplot(1,2,2)\n",
    "plt.plot(history.history[\"accuracy\"], label=\"treino\")\n",
    "plt.plot(history.history[\"val_accuracy\"], label=\"validacao\")\n",
    "plt.xlabel(\"epocas\")\n",
    "plt.ylabel(\"acurácia\")\n",
    "plt.legend();"
   ]
  },
  {
   "cell_type": "markdown",
   "id": "26d23615",
   "metadata": {},
   "source": [
    "### Matriz de confusão"
   ]
  },
  {
   "cell_type": "code",
   "execution_count": 11,
   "id": "7eb92fc1",
   "metadata": {},
   "outputs": [],
   "source": [
    "import sklearn.metrics as skm \n",
    "import seaborn as sn"
   ]
  },
  {
   "cell_type": "markdown",
   "id": "5f654572",
   "metadata": {},
   "source": [
    "# Avaliando separadamente o modelo nos dados de teste\n",
    "Assumindo que os hiperparâmetros já foram ajustados, o modelo e que já chegamos na nossa melhor configuração."
   ]
  },
  {
   "cell_type": "code",
   "execution_count": 12,
   "id": "97b8b522",
   "metadata": {
    "scrolled": true
   },
   "outputs": [
    {
     "name": "stdout",
     "output_type": "stream",
     "text": [
      "Accuracy: 62.34%\n",
      "\n",
      "3/3 [==============================] - 0s 3ms/step\n",
      "48\n",
      "              precision    recall  f1-score   support\n",
      "\n",
      "         pos       0.72      0.68      0.70        50\n",
      "         neg       0.47      0.52      0.49        27\n",
      "\n",
      "    accuracy                           0.62        77\n",
      "   macro avg       0.60      0.60      0.60        77\n",
      "weighted avg       0.63      0.62      0.63        77\n",
      "\n",
      "[[34 16]\n",
      " [13 14]]\n"
     ]
    },
    {
     "data": {
      "text/plain": [
       "<AxesSubplot:>"
      ]
     },
     "execution_count": 12,
     "metadata": {},
     "output_type": "execute_result"
    },
    {
     "data": {
      "image/png": "[encoded data removed]",
      "text/plain": [
       "<Figure size 432x288 with 2 Axes>"
      ]
     },
     "metadata": {},
     "output_type": "display_data"
    }
   ],
   "source": [
    "score, acc = model.evaluate(X_test, y_test, verbose=0)\n",
    "\n",
    "print(\"Accuracy: %.2f%%\" % (acc*100))\n",
    "print()\n",
    "\n",
    "from sklearn.metrics import classification_report,confusion_matrix \n",
    "\n",
    "y_pred = model.predict(np.array(X_test))\n",
    "#print(y_pred)\n",
    "\n",
    "from sklearn.metrics import accuracy_score\n",
    "\n",
    "y_pred = (y_pred > 0.5)  # limiar 50%\n",
    "#print(y_pred)\n",
    "\n",
    "print(accuracy_score(y_test, y_pred, normalize=False))\n",
    "\n",
    "\n",
    "target_names = ['pos', 'neg']\n",
    "cnf_matrix_test = confusion_matrix(y_test,y_pred)\n",
    "\n",
    "print(classification_report(y_test, y_pred, target_names=target_names))\n",
    "print(cnf_matrix_test)\n",
    "\n",
    "\n",
    "df_cm = pd.DataFrame(cnf_matrix_test, range(2), range(2))\n",
    "sn.set(font_scale=1.6)\n",
    "sn.heatmap(df_cm, annot=True, fmt='d')"
   ]
  },
  {
   "cell_type": "markdown",
   "id": "887095a0",
   "metadata": {},
   "source": [
    "# Calculando a taxa de erro através da matriz de confusão (dados de teste):"
   ]
  },
  {
   "cell_type": "code",
   "execution_count": 13,
   "id": "1d471931",
   "metadata": {},
   "outputs": [
    {
     "name": "stdout",
     "output_type": "stream",
     "text": [
      "0.37662337662337664\n"
     ]
    }
   ],
   "source": [
    "TP = cnf_matrix_test[1, 1]\n",
    "TN = cnf_matrix_test[0, 0]\n",
    "FP = cnf_matrix_test[0, 1]\n",
    "FN = cnf_matrix_test[1, 0]\n",
    "\n",
    "classification_error = (FP + FN) / float(TP + TN + FP + FN)\n",
    "print(classification_error)"
   ]
  },
  {
   "cell_type": "code",
   "execution_count": 14,
   "id": "d7c9acda",
   "metadata": {},
   "outputs": [],
   "source": [
    "# Calculando a acurácia através da matriz de confusão (dados de teste):"
   ]
  },
  {
   "cell_type": "code",
   "execution_count": 15,
   "id": "96251135",
   "metadata": {
    "scrolled": true
   },
   "outputs": [
    {
     "name": "stdout",
     "output_type": "stream",
     "text": [
      "0.6233766233766234\n"
     ]
    }
   ],
   "source": [
    "accuracy = (TP + TN)/float(TP + TN + FP + FN)\n",
    "print(accuracy)"
   ]
  },
  {
   "cell_type": "code",
   "execution_count": 16,
   "id": "11dc0f11",
   "metadata": {},
   "outputs": [],
   "source": [
    "# Calculando a Sensibilidade/Recall através da matriz de confusão (dados de teste):"
   ]
  },
  {
   "cell_type": "code",
   "execution_count": 17,
   "id": "adbcb7ba",
   "metadata": {},
   "outputs": [
    {
     "name": "stdout",
     "output_type": "stream",
     "text": [
      "0.5185185185185185\n"
     ]
    }
   ],
   "source": [
    "sensitivity = (TP)/float(TP + FN) #OU RECALL\n",
    "print(sensitivity) # essa é uma métrica de avalição muito importante na área médica"
   ]
  },
  {
   "cell_type": "code",
   "execution_count": 18,
   "id": "219b369b",
   "metadata": {},
   "outputs": [],
   "source": [
    "# Calculando a Espedificidade através da matriz de confusão (dados de teste):"
   ]
  },
  {
   "cell_type": "code",
   "execution_count": 19,
   "id": "a790ca27",
   "metadata": {},
   "outputs": [
    {
     "name": "stdout",
     "output_type": "stream",
     "text": [
      "0.68\n"
     ]
    }
   ],
   "source": [
    "specificity = (TN)/float(TN + FP)\n",
    "print(specificity)"
   ]
  },
  {
   "cell_type": "code",
   "execution_count": 20,
   "id": "f1b6fc57",
   "metadata": {},
   "outputs": [],
   "source": [
    "# Calculando a precisão através da matriz de confusão (dados de teste):"
   ]
  },
  {
   "cell_type": "code",
   "execution_count": 21,
   "id": "fafc8eab",
   "metadata": {},
   "outputs": [
    {
     "name": "stdout",
     "output_type": "stream",
     "text": [
      "0.4666666666666667\n"
     ]
    }
   ],
   "source": [
    "precision = (TP)/float(TP + FP)\n",
    "print(precision )\n",
    "\n",
    "# OBS: A precisão pode ser usada em uma situação em que os Falsos Positivos são considerados mais prejudiciais que os\n",
    "# Falsos Negativos!! Por exemplo, no mercado de ações é necessário termos um bom modelo correto de previsão de compra. O modelo\n",
    "# deve ser preciso em suas classificações, pois se consideramos um investimento bom, quando na verdade ele não é, teremos um \n",
    "# grande problema financeiro. Classificar uma boa ação como ruim (situação de Falso Negativo) no processo de compra é melhor\n",
    "# do que classificar uma ação ruim como boa (situação de Falso Positivo)."
   ]
  },
  {
   "cell_type": "code",
   "execution_count": 22,
   "id": "1f731261",
   "metadata": {},
   "outputs": [],
   "source": [
    "# Calculando o f1_score através da matriz de confusão (dados de teste):"
   ]
  },
  {
   "cell_type": "code",
   "execution_count": 23,
   "id": "13238bb1",
   "metadata": {},
   "outputs": [
    {
     "name": "stdout",
     "output_type": "stream",
     "text": [
      "0.4912280701754386\n"
     ]
    }
   ],
   "source": [
    "f1_score = 2 * (precision * sensitivity) / (precision + sensitivity)\n",
    "print(f1_score) \n"
   ]
  },
  {
   "cell_type": "markdown",
   "id": "91e2071a",
   "metadata": {},
   "source": [
    "# Curva ROC"
   ]
  },
  {
   "cell_type": "code",
   "execution_count": 24,
   "id": "a4edc113",
   "metadata": {},
   "outputs": [
    {
     "name": "stdout",
     "output_type": "stream",
     "text": [
      "AUC score: 0.5993\n"
     ]
    },
    {
     "data": {
      "image/png": "[encoded data removed]",
      "text/plain": [
       "<Figure size 432x288 with 1 Axes>"
      ]
     },
     "metadata": {},
     "output_type": "display_data"
    }
   ],
   "source": [
    "#ROC curve SITE IMPORTANTE\n",
    "#https://www.kaggle.com/ramanchandra/sentiment-analysis-on-imdb-movie-reviews/data\n",
    "\n",
    "from sklearn.metrics import roc_curve,auc\n",
    "\n",
    "fpr_cnn,tpr_cnn,thresold_cnn=roc_curve(y_test,y_pred)\n",
    "\n",
    "#AUC score for CNN\n",
    "\n",
    "auc_cnn=auc(fpr_cnn,tpr_cnn)\n",
    "print('AUC score:',np.round(auc_cnn,4)) # o 4 aqui é o número de casas após a vírgula (precisão)\n",
    "plt.figure(1)\n",
    "plt.plot([0,1],[0,1],'k--')\n",
    "plt.plot(fpr_cnn,tpr_cnn,label='CNN(area={:.4f})'.format(auc_cnn))\n",
    "plt.xlabel('False Positive rate')\n",
    "plt.ylabel('True Positive rate')\n",
    "plt.title('ROC curve')\n",
    "plt.legend(loc='best')\n",
    "plt.show()"
   ]
  },
  {
   "cell_type": "markdown",
   "id": "cf96e1a8",
   "metadata": {},
   "source": [
    "# TREINE O seu modelo final do zero, utilizando todos os dados que não sejam os de teste\n",
    "(o modelo é o mesmo levantado na etapa de cross validation (após todos os ajustes de hiperparâmetros)"
   ]
  },
  {
   "cell_type": "code",
   "execution_count": 25,
   "id": "b53eec85",
   "metadata": {},
   "outputs": [
    {
     "name": "stdout",
     "output_type": "stream",
     "text": [
      "Model: \"sequential_5\"\n",
      "_________________________________________________________________\n",
      " Layer (type)                Output Shape              Param #   \n",
      "=================================================================\n",
      " dense_10 (Dense)            (None, 15)                135       \n",
      "                                                                 \n",
      " dense_11 (Dense)            (None, 10)                160       \n",
      "                                                                 \n",
      " dense_12 (Dense)            (None, 1)                 11        \n",
      "                                                                 \n",
      "=================================================================\n",
      "Total params: 306\n",
      "Trainable params: 306\n",
      "Non-trainable params: 0\n",
      "_________________________________________________________________\n"
     ]
    }
   ],
   "source": [
    "#primeiro vamos unir conjunto de treino e validação em um só conjunto.\n",
    "inputs = np.concatenate((X_train, X_val), axis=0)\n",
    "targets = np.concatenate((y_train, y_val), axis=0)\n",
    "\n",
    "tf.random.set_seed(20)   # fixar o pseudo-random generator do tensorflow\n",
    "np.random.seed(20)\n",
    "\n",
    "model = ke.Sequential()\n",
    "model.add(ke.layers.Input(inputs.shape[1],))  #Camada de entrada: informando ao modelo quantas features eu tenho na entrada\n",
    "model.add(ke.layers.Dense(15, activation='relu'))\n",
    "model.add(ke.layers.Dense(10, activation='relu'))\n",
    "model.add(ke.layers.Dense(1, activation='sigmoid')) # modelos de classificação binária sempre devem ter 1 neurônio na última camada\n",
    "\n",
    "model.summary()"
   ]
  },
  {
   "cell_type": "code",
   "execution_count": 26,
   "id": "39326eb9",
   "metadata": {},
   "outputs": [],
   "source": [
    "model.compile(loss='binary_crossentropy', metrics=['accuracy'])"
   ]
  },
  {
   "cell_type": "code",
   "execution_count": 27,
   "id": "1c615016",
   "metadata": {},
   "outputs": [
    {
     "name": "stdout",
     "output_type": "stream",
     "text": [
      "Epoch 1/40\n",
      "22/22 [==============================] - 1s 3ms/step - loss: 3.2542 - accuracy: 0.4674\n",
      "Epoch 2/40\n",
      "22/22 [==============================] - 0s 3ms/step - loss: 1.4998 - accuracy: 0.5658\n",
      "Epoch 3/40\n",
      "22/22 [==============================] - 0s 3ms/step - loss: 1.2053 - accuracy: 0.5977\n",
      "Epoch 4/40\n",
      "22/22 [==============================] - 0s 3ms/step - loss: 1.1185 - accuracy: 0.6208\n",
      "Epoch 5/40\n",
      "22/22 [==============================] - 0s 3ms/step - loss: 0.9721 - accuracy: 0.6425\n",
      "Epoch 6/40\n",
      "22/22 [==============================] - 0s 3ms/step - loss: 0.9120 - accuracy: 0.6556\n",
      "Epoch 7/40\n",
      "22/22 [==============================] - 0s 3ms/step - loss: 0.8862 - accuracy: 0.6628\n",
      "Epoch 8/40\n",
      "22/22 [==============================] - 0s 3ms/step - loss: 0.8204 - accuracy: 0.6599\n",
      "Epoch 9/40\n",
      "22/22 [==============================] - 0s 3ms/step - loss: 0.7861 - accuracy: 0.6729\n",
      "Epoch 10/40\n",
      "22/22 [==============================] - 0s 3ms/step - loss: 0.7872 - accuracy: 0.6729\n",
      "Epoch 11/40\n",
      "22/22 [==============================] - 0s 3ms/step - loss: 0.7672 - accuracy: 0.6556\n",
      "Epoch 12/40\n",
      "22/22 [==============================] - 0s 3ms/step - loss: 0.7616 - accuracy: 0.6570\n",
      "Epoch 13/40\n",
      "22/22 [==============================] - 0s 3ms/step - loss: 0.7230 - accuracy: 0.6860\n",
      "Epoch 14/40\n",
      "22/22 [==============================] - 0s 3ms/step - loss: 0.7565 - accuracy: 0.6628\n",
      "Epoch 15/40\n",
      "22/22 [==============================] - 0s 3ms/step - loss: 0.7383 - accuracy: 0.6816\n",
      "Epoch 16/40\n",
      "22/22 [==============================] - 0s 3ms/step - loss: 0.6984 - accuracy: 0.6787\n",
      "Epoch 17/40\n",
      "22/22 [==============================] - 0s 3ms/step - loss: 0.7165 - accuracy: 0.6816\n",
      "Epoch 18/40\n",
      "22/22 [==============================] - 0s 2ms/step - loss: 0.7119 - accuracy: 0.6787\n",
      "Epoch 19/40\n",
      "22/22 [==============================] - 0s 2ms/step - loss: 0.6920 - accuracy: 0.6816\n",
      "Epoch 20/40\n",
      "22/22 [==============================] - 0s 2ms/step - loss: 0.6928 - accuracy: 0.6918\n",
      "Epoch 21/40\n",
      "22/22 [==============================] - 0s 2ms/step - loss: 0.6855 - accuracy: 0.6758\n",
      "Epoch 22/40\n",
      "22/22 [==============================] - 0s 2ms/step - loss: 0.6759 - accuracy: 0.6874\n",
      "Epoch 23/40\n",
      "22/22 [==============================] - 0s 2ms/step - loss: 0.6802 - accuracy: 0.6831\n",
      "Epoch 24/40\n",
      "22/22 [==============================] - 0s 3ms/step - loss: 0.6661 - accuracy: 0.6946\n",
      "Epoch 25/40\n",
      "22/22 [==============================] - 0s 3ms/step - loss: 0.6581 - accuracy: 0.6700\n",
      "Epoch 26/40\n",
      "22/22 [==============================] - 0s 3ms/step - loss: 0.6692 - accuracy: 0.6932\n",
      "Epoch 27/40\n",
      "22/22 [==============================] - 0s 3ms/step - loss: 0.6422 - accuracy: 0.7062\n",
      "Epoch 28/40\n",
      "22/22 [==============================] - 0s 3ms/step - loss: 0.6346 - accuracy: 0.7091\n",
      "Epoch 29/40\n",
      "22/22 [==============================] - 0s 3ms/step - loss: 0.6378 - accuracy: 0.6975\n",
      "Epoch 30/40\n",
      "22/22 [==============================] - 0s 3ms/step - loss: 0.6309 - accuracy: 0.6975\n",
      "Epoch 31/40\n",
      "22/22 [==============================] - 0s 3ms/step - loss: 0.6346 - accuracy: 0.6816\n",
      "Epoch 32/40\n",
      "22/22 [==============================] - 0s 3ms/step - loss: 0.6333 - accuracy: 0.6918\n",
      "Epoch 33/40\n",
      "22/22 [==============================] - 0s 3ms/step - loss: 0.6287 - accuracy: 0.6903\n",
      "Epoch 34/40\n",
      "22/22 [==============================] - 0s 3ms/step - loss: 0.6393 - accuracy: 0.7120\n",
      "Epoch 35/40\n",
      "22/22 [==============================] - 0s 3ms/step - loss: 0.6334 - accuracy: 0.6961\n",
      "Epoch 36/40\n",
      "22/22 [==============================] - 0s 3ms/step - loss: 0.6204 - accuracy: 0.7077\n",
      "Epoch 37/40\n",
      "22/22 [==============================] - 0s 3ms/step - loss: 0.6125 - accuracy: 0.7019\n",
      "Epoch 38/40\n",
      "22/22 [==============================] - 0s 3ms/step - loss: 0.6154 - accuracy: 0.7149\n",
      "Epoch 39/40\n",
      "22/22 [==============================] - 0s 3ms/step - loss: 0.6338 - accuracy: 0.6816\n",
      "Epoch 40/40\n",
      "22/22 [==============================] - 0s 3ms/step - loss: 0.6075 - accuracy: 0.6975\n"
     ]
    }
   ],
   "source": [
    "history=model.fit(x=inputs,y=targets,epochs=40);"
   ]
  },
  {
   "cell_type": "markdown",
   "id": "a4651a61",
   "metadata": {},
   "source": [
    "# Avaliando separadamente os dados de teste\n",
    "(para o modelo FINAL)"
   ]
  },
  {
   "cell_type": "code",
   "execution_count": 28,
   "id": "06f2efd1",
   "metadata": {},
   "outputs": [
    {
     "name": "stdout",
     "output_type": "stream",
     "text": [
      "Accuracy: 72.73%\n",
      "\n",
      "3/3 [==============================] - 0s 3ms/step\n",
      "56\n",
      "              precision    recall  f1-score   support\n",
      "\n",
      "         pos       0.76      0.84      0.80        50\n",
      "         neg       0.64      0.52      0.57        27\n",
      "\n",
      "    accuracy                           0.73        77\n",
      "   macro avg       0.70      0.68      0.69        77\n",
      "weighted avg       0.72      0.73      0.72        77\n",
      "\n",
      "[[42  8]\n",
      " [13 14]]\n"
     ]
    },
    {
     "data": {
      "text/plain": [
       "<AxesSubplot:>"
      ]
     },
     "execution_count": 28,
     "metadata": {},
     "output_type": "execute_result"
    },
    {
     "data": {
      "image/png": "[encoded data removed]",
      "text/plain": [
       "<Figure size 432x288 with 2 Axes>"
      ]
     },
     "metadata": {},
     "output_type": "display_data"
    }
   ],
   "source": [
    "score, acc = model.evaluate(X_test, y_test, verbose=0)\n",
    "\n",
    "print(\"Accuracy: %.2f%%\" % (acc*100))\n",
    "print()\n",
    "\n",
    "from sklearn.metrics import classification_report,confusion_matrix \n",
    "\n",
    "y_pred = model.predict(np.array(X_test))\n",
    "#print(y_pred)\n",
    "\n",
    "from sklearn.metrics import accuracy_score\n",
    "\n",
    "y_pred = (y_pred > 0.5)  # limiar 50%\n",
    "#print(y_pred)\n",
    "\n",
    "print(accuracy_score(y_test, y_pred, normalize=False))\n",
    "\n",
    "\n",
    "target_names = ['pos', 'neg']\n",
    "cnf_matrix_test = confusion_matrix(y_test,y_pred)\n",
    "\n",
    "print(classification_report(y_test, y_pred, target_names=target_names))\n",
    "print(cnf_matrix_test)\n",
    "\n",
    "\n",
    "df_cm = pd.DataFrame(cnf_matrix_test, range(2), range(2))\n",
    "sn.set(font_scale=1.6)\n",
    "sn.heatmap(df_cm, annot=True, fmt='d')"
   ]
  },
  {
   "cell_type": "code",
   "execution_count": 29,
   "id": "f08ab007",
   "metadata": {},
   "outputs": [
    {
     "name": "stdout",
     "output_type": "stream",
     "text": [
      "0.2727272727272727\n"
     ]
    }
   ],
   "source": [
    "TP = cnf_matrix_test[1, 1]\n",
    "TN = cnf_matrix_test[0, 0]\n",
    "FP = cnf_matrix_test[0, 1]\n",
    "FN = cnf_matrix_test[1, 0]\n",
    "\n",
    "classification_error = (FP + FN) / float(TP + TN + FP + FN)\n",
    "print(classification_error)"
   ]
  },
  {
   "cell_type": "code",
   "execution_count": 30,
   "id": "2e88dcfd",
   "metadata": {},
   "outputs": [],
   "source": [
    "# Calculando a acurácia através da matriz de confusão (dados de teste):"
   ]
  },
  {
   "cell_type": "code",
   "execution_count": 31,
   "id": "c58a2cad",
   "metadata": {
    "scrolled": true
   },
   "outputs": [
    {
     "name": "stdout",
     "output_type": "stream",
     "text": [
      "0.7272727272727273\n"
     ]
    }
   ],
   "source": [
    "accuracy = (TP + TN)/float(TP + TN + FP + FN)\n",
    "print(accuracy)"
   ]
  },
  {
   "cell_type": "code",
   "execution_count": 32,
   "id": "f2c1feb9",
   "metadata": {},
   "outputs": [],
   "source": [
    "# Calculando a Sensibilidade/Recall através da matriz de confusão (dados de teste):"
   ]
  },
  {
   "cell_type": "code",
   "execution_count": 33,
   "id": "7c826803",
   "metadata": {},
   "outputs": [
    {
     "name": "stdout",
     "output_type": "stream",
     "text": [
      "0.5185185185185185\n"
     ]
    }
   ],
   "source": [
    "sensitivity = (TP)/float(TP + FN) #OU RECALL\n",
    "print(sensitivity) # essa é uma métrica de avalição muito importante na área médica"
   ]
  },
  {
   "cell_type": "code",
   "execution_count": 34,
   "id": "bed153c9",
   "metadata": {},
   "outputs": [],
   "source": [
    "# Calculando a Espedificidade através da matriz de confusão (dados de teste):"
   ]
  },
  {
   "cell_type": "code",
   "execution_count": 35,
   "id": "1457d8f9",
   "metadata": {},
   "outputs": [
    {
     "name": "stdout",
     "output_type": "stream",
     "text": [
      "0.84\n"
     ]
    }
   ],
   "source": [
    "specificity = (TN)/float(TN + FP)\n",
    "print(specificity)"
   ]
  },
  {
   "cell_type": "code",
   "execution_count": 36,
   "id": "a2ed9a1d",
   "metadata": {},
   "outputs": [],
   "source": [
    "# Calculando a precisão através da matriz de confusão (dados de teste):"
   ]
  },
  {
   "cell_type": "code",
   "execution_count": 37,
   "id": "c3803060",
   "metadata": {},
   "outputs": [
    {
     "name": "stdout",
     "output_type": "stream",
     "text": [
      "0.6363636363636364\n"
     ]
    }
   ],
   "source": [
    "precision = (TP)/float(TP + FP)\n",
    "print(precision )\n",
    "\n",
    "# OBS: A precisão pode ser usada em uma situação em que os Falsos Positivos são considerados mais prejudiciais que os\n",
    "# Falsos Negativos!! Por exemplo, no mercado de ações é necessário termos um bom modelo correto de previsão de compra. O modelo\n",
    "# deve ser preciso em suas classificações, pois se consideramos um investimento bom, quando na verdade ele não é, teremos um \n",
    "# grande problema financeiro. Classificar uma boa ação como ruim (situação de Falso Negativo) no processo de compra é melhor\n",
    "# do que classificar uma ação ruim como boa (situação de Falso Positivo)."
   ]
  },
  {
   "cell_type": "code",
   "execution_count": 38,
   "id": "07fc463a",
   "metadata": {},
   "outputs": [],
   "source": [
    "# Calculando o f1_score através da matriz de confusão (dados de teste):"
   ]
  },
  {
   "cell_type": "code",
   "execution_count": 39,
   "id": "21a12a76",
   "metadata": {},
   "outputs": [
    {
     "name": "stdout",
     "output_type": "stream",
     "text": [
      "0.5714285714285714\n"
     ]
    }
   ],
   "source": [
    "f1_score = 2 * (precision * sensitivity) / (precision + sensitivity)\n",
    "print(f1_score) \n"
   ]
  },
  {
   "cell_type": "markdown",
   "id": "f769fe79",
   "metadata": {},
   "source": [
    "# Curva ROC"
   ]
  },
  {
   "cell_type": "code",
   "execution_count": 40,
   "id": "f383d2bb",
   "metadata": {},
   "outputs": [
    {
     "name": "stdout",
     "output_type": "stream",
     "text": [
      "AUC score: 0.6793\n"
     ]
    },
    {
     "data": {
      "image/png": "[encoded data removed]",
      "text/plain": [
       "<Figure size 432x288 with 1 Axes>"
      ]
     },
     "metadata": {},
     "output_type": "display_data"
    }
   ],
   "source": [
    "#ROC curve SITE IMPORTANTE\n",
    "#https://www.kaggle.com/ramanchandra/sentiment-analysis-on-imdb-movie-reviews/data\n",
    "\n",
    "from sklearn.metrics import roc_curve,auc\n",
    "\n",
    "fpr_cnn,tpr_cnn,thresold_cnn=roc_curve(y_test,y_pred)\n",
    "\n",
    "#AUC score for CNN\n",
    "\n",
    "auc_cnn=auc(fpr_cnn,tpr_cnn)\n",
    "print('AUC score:',np.round(auc_cnn,4)) # o 4 aqui é o número de casas após a vírgula (precisão)\n",
    "plt.figure(1)\n",
    "plt.plot([0,1],[0,1],'k--')\n",
    "plt.plot(fpr_cnn,tpr_cnn,label='CNN(area={:.4f})'.format(auc_cnn))\n",
    "plt.xlabel('False Positive rate')\n",
    "plt.ylabel('True Positive rate')\n",
    "plt.title('ROC curve')\n",
    "plt.legend(loc='best')\n",
    "plt.show()"
   ]
  },
  {
   "cell_type": "code",
   "execution_count": null,
   "id": "c1e47995",
   "metadata": {},
   "outputs": [],
   "source": []
  }
 ],
 "metadata": {
  "kernelspec": {
   "display_name": "Python 3 (ipykernel)",
   "language": "python",
   "name": "python3"
  },
  "language_info": {
   "codemirror_mode": {
    "name": "ipython",
    "version": 3
   },
   "file_extension": ".py",
   "mimetype": "text/x-python",
   "name": "python",
   "nbconvert_exporter": "python",
   "pygments_lexer": "ipython3",
   "version": "3.10.4"
  }
 },
 "nbformat": 4,
 "nbformat_minor": 5
}
