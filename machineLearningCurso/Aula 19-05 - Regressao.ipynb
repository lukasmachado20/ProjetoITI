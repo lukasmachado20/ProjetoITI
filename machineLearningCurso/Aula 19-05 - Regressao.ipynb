{
 "cells": [
  {
   "cell_type": "markdown",
   "id": "047a02ba",
   "metadata": {},
   "source": [
    "<br>\n",
    "<img src=\"https://images.even3.com.br/ONieRmTALZ2ETt2LfoUY4_IopIU=/fit-in/250x250/smart/even3.blob.core.windows.net/logos/UFCSPA-logotipo-1.19fc99573cf34163a727.png\" style=\"width: 100px;\"/>\n",
    "<center>Aprendizado profundo para Visão Computacional I\n",
    "    <br>\n",
    "    Prof. Viviane Botelho</center>\n",
    "    \n",
    "## <center>  **Aula 3b: Modelos de regressão** <center>\n"
   ]
  },
  {
   "cell_type": "markdown",
   "id": "5db766e4",
   "metadata": {},
   "source": [
    "<img src=\"https://marvel-b1-cdn.bc0a.com/f00000000206209/www.imsl.com/sites/default/files/image/2021-06/IMSL%20What%20is%20Regression%20Model%20Blog%20Feature.png\" style=\"width: 300px;\"/>\n",
    "\n"
   ]
  },
  {
   "cell_type": "code",
   "execution_count": null,
   "id": "7079b4e8",
   "metadata": {},
   "outputs": [],
   "source": [
    "import tensorflow as tf\n",
    "import keras as ke\n",
    "import numpy as np\n",
    "import matplotlib.pyplot as plt\n",
    "import pandas as pd\n",
    "from sklearn.model_selection import train_test_split"
   ]
  },
  {
   "cell_type": "markdown",
   "id": "b6fe2855",
   "metadata": {},
   "source": [
    "# <font color='blue'>Boston Housing price regression dataset</font>\n",
    "\n",
    "As amostras contém 13 atributos de casas em diferentes locais nos subúrbios de Boston no final dos anos 1970 e o respectivo preço médio de cada casa\n",
    "\n",
    "https://keras.io/api/datasets/boston_housing/\n",
    "<img src=\"https://uploaddeimagens.com.br/images/003/297/477/original/Capturar3.PNG?1624280571\" style=\"width: 500px;\"/>\n",
    "\n",
    "\n",
    "\n",
    "**Objetivo: Estimar o preço de uma casa á partir dos atributos**\n",
    "<br>\n",
    "\n",
    "## Importando e visualizando os dados:"
   ]
  },
  {
   "cell_type": "code",
   "execution_count": null,
   "id": "d44c76e5",
   "metadata": {},
   "outputs": [],
   "source": [
    "(X2, Y2), (X_teste, Y_teste) = ke.datasets.boston_housing.load_data()\n",
    "X_treino, X_val, Y_treino, Y_val = train_test_split(X2, Y2, test_size=0.2,random_state=20)"
   ]
  },
  {
   "cell_type": "markdown",
   "id": "7b541667",
   "metadata": {},
   "source": [
    "## Normalização dos dados\n",
    "Lembrando sempre que os parâmetros de ajuste são determinados a partir dos dados de treino!"
   ]
  },
  {
   "cell_type": "code",
   "execution_count": null,
   "id": "2ebf09fd",
   "metadata": {},
   "outputs": [],
   "source": [
    "xmin=np.min(X_treino,axis=0)\n",
    "xmax=np.max(X_treino,axis=0)\n",
    "\n",
    "X_treino=(X_treino-xmin)/(xmax-xmin)\n",
    "X_teste=(X_teste-xmin)/(xmax-xmin)\n",
    "X_val=(X_val-xmin)/(xmax-xmin)"
   ]
  },
  {
   "cell_type": "markdown",
   "id": "e9ebb958",
   "metadata": {},
   "source": [
    "**Visualizando a relação entre cada feature e a saída (tendência)**"
   ]
  },
  {
   "cell_type": "code",
   "execution_count": null,
   "id": "e17b3b7b",
   "metadata": {},
   "outputs": [],
   "source": [
    "atributos=[ 'CRIM','ZN', 'INDUS', 'CHAS', 'NOX', 'RM',  'AGE', 'DIS', 'RAD', 'TAX', 'PTRATIO', 'B','LSTAT','MEDV'   ]\n",
    "plt.figure(figsize=(15,20))\n",
    "for i in range(0,13):\n",
    "    plt.subplot(4,4,i+1)\n",
    "    plt.plot(X_treino[:,i],Y_treino,'r.')\n",
    "    plt.xlabel('atributo')\n",
    "    plt.ylabel('preço')\n",
    "    plt.title(atributos[i])"
   ]
  },
  {
   "cell_type": "markdown",
   "id": "49fdde68",
   "metadata": {},
   "source": [
    "## Criação do Modelo: "
   ]
  },
  {
   "cell_type": "code",
   "execution_count": null,
   "id": "4c2bb057",
   "metadata": {},
   "outputs": [],
   "source": [
    "model = ke.models.Sequential()\n",
    "model.add(ke.layers.Dense(13, activation='relu',input_shape=(13,))),\n",
    "model.add(ke.layers.Dense(6, activation='relu'))\n",
    "model.add(ke.layers.Dense(1))"
   ]
  },
  {
   "cell_type": "markdown",
   "id": "c83c3b02",
   "metadata": {},
   "source": [
    "### <font color='red'> Por que a última camada possui um neurônio? </font> \n"
   ]
  },
  {
   "cell_type": "markdown",
   "id": "25d480e5",
   "metadata": {},
   "source": [
    "Obs: A função de ativação da última camada deve permitir um \"comportamento contínuo\" em problemas de regressão (usualmente identidade).\n",
    "\n",
    "<img src=\"https://cdn-images-1.medium.com/1*rIiBaH5IMVPaE5BM-n7VZw.png\" style=\"width: 500px;\"/>\n",
    "\n"
   ]
  },
  {
   "cell_type": "markdown",
   "id": "3c494958",
   "metadata": {},
   "source": [
    "# Resumo:"
   ]
  },
  {
   "cell_type": "code",
   "execution_count": null,
   "id": "a0471d39",
   "metadata": {},
   "outputs": [],
   "source": [
    "model.summary()"
   ]
  },
  {
   "cell_type": "markdown",
   "id": "fce1c069",
   "metadata": {},
   "source": [
    "## Compilando e treinando o modelo"
   ]
  },
  {
   "cell_type": "code",
   "execution_count": null,
   "id": "349fd876",
   "metadata": {},
   "outputs": [],
   "source": [
    "model.compile(loss='mse',metrics=['mae'])"
   ]
  },
  {
   "cell_type": "code",
   "execution_count": null,
   "id": "3df3fe05",
   "metadata": {},
   "outputs": [],
   "source": [
    "history=model.fit(x=X_treino, y=Y_treino,\n",
    "          epochs=500,\n",
    "          validation_data=(X_val,Y_val))"
   ]
  },
  {
   "cell_type": "markdown",
   "id": "ac45e3ac",
   "metadata": {},
   "source": [
    "## Avaliando os resultados"
   ]
  },
  {
   "cell_type": "code",
   "execution_count": null,
   "id": "757dfb93",
   "metadata": {},
   "outputs": [],
   "source": [
    "plt.figure(figsize=(15,5))\n",
    "plt.subplot(1,2,1)\n",
    "plt.plot(history.history[\"loss\"], label=\"treino\")\n",
    "plt.plot(history.history[\"val_loss\"], label=\"validacao\")\n",
    "plt.xlabel(\"epocas\")\n",
    "plt.ylabel(\"Loss-MSE\")\n",
    "plt.legend();\n",
    "plt.subplot(1,2,2)\n",
    "plt.plot(history.history[\"mae\"], label=\"treino\")\n",
    "plt.plot(history.history[\"val_mae\"], label=\"validacao\")\n",
    "plt.xlabel(\"epocas\")\n",
    "plt.ylabel(\"MAE\")\n",
    "plt.legend();\n"
   ]
  },
  {
   "cell_type": "markdown",
   "id": "253b57e3",
   "metadata": {},
   "source": [
    "#### Comparação visual dados medidos vs. preditos"
   ]
  },
  {
   "cell_type": "code",
   "execution_count": null,
   "id": "2a955fde",
   "metadata": {},
   "outputs": [],
   "source": [
    "Ypred_treino=model.predict(X_treino)\n",
    "Ypred_val=model.predict(X_val)\n"
   ]
  },
  {
   "cell_type": "code",
   "execution_count": null,
   "id": "7cadab69",
   "metadata": {},
   "outputs": [],
   "source": [
    "plt.figure(figsize=(15,5))\n",
    "\n",
    "plt.subplot(1,2,1)\n",
    "idx_t=np.argsort(Y_treino)\n",
    "plt.plot(Y_treino[idx_t],'.-')\n",
    "plt.plot(Ypred_treino[idx_t],'.-',alpha=0.5)\n",
    "plt.legend(['medido','predito'])\n",
    "plt.title('dados de treino')\n",
    "plt.xlabel('amostra')\n",
    "plt.ylabel('preço')\n",
    "\n",
    "plt.subplot(1,2,2)\n",
    "idx_t=np.argsort(Y_val)\n",
    "plt.plot(Y_val[idx_t],'.-')\n",
    "plt.plot(Ypred_val[idx_t],'.-',alpha=0.5)\n",
    "plt.legend(['medido','predito'])\n",
    "plt.title('dados de teste')\n",
    "plt.xlabel('amostra')\n",
    "plt.ylabel('preço')"
   ]
  }
 ],
 "metadata": {
  "kernelspec": {
   "display_name": "Python 3 (ipykernel)",
   "language": "python",
   "name": "python3"
  },
  "language_info": {
   "codemirror_mode": {
    "name": "ipython",
    "version": 3
   },
   "file_extension": ".py",
   "mimetype": "text/x-python",
   "name": "python",
   "nbconvert_exporter": "python",
   "pygments_lexer": "ipython3",
   "version": "3.9.12"
  }
 },
 "nbformat": 4,
 "nbformat_minor": 5
}
