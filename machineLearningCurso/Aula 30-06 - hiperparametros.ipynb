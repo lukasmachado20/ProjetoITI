{
 "cells": [
  {
   "cell_type": "markdown",
   "id": "4873f11e",
   "metadata": {},
   "source": [
    "<br>\n",
    "<img src=\"https://images.even3.com.br/ONieRmTALZ2ETt2LfoUY4_IopIU=/fit-in/250x250/smart/even3.blob.core.windows.net/logos/UFCSPA-logotipo-1.19fc99573cf34163a727.png\" style=\"width: 100px;\"/>\n",
    "<center>Aprendizado profundo para Visão Computacional I\n",
    "    <br>\n",
    "    Prof. Viviane Botelho</center>\n",
    "\n",
    "# <center><font color='blue'>Ajuste de hiperparâmetros</font></center>"
   ]
  },
  {
   "cell_type": "code",
   "execution_count": null,
   "id": "8935293d",
   "metadata": {},
   "outputs": [],
   "source": [
    "import cv2\n",
    "import numpy as np\n",
    "import tensorflow as tf\n",
    "import matplotlib.pyplot as plt\n",
    "from tensorflow import keras as ke\n",
    "from sklearn.metrics import confusion_matrix\n",
    "import seaborn as sns\n",
    "import pandas as pd\n",
    "import cv2\n",
    "from skimage.transform import resize\n",
    "from sklearn.model_selection import train_test_split\n",
    "import os, random\n",
    "\n",
    "from scipy.spatial.distance import pdist, squareform\n",
    "\n",
    "%config Completer.use_jedi = False\n",
    "\n",
    "import warnings\n",
    "warnings.simplefilter(\"ignore\")\n",
    "\n",
    "\n",
    "# Evitar warnings do tensorflow\n",
    "import logging\n",
    "logging.getLogger(\"tensorflow\").setLevel(logging.ERROR)"
   ]
  },
  {
   "cell_type": "markdown",
   "id": "fb3df46e",
   "metadata": {},
   "source": [
    "# Dados"
   ]
  },
  {
   "cell_type": "markdown",
   "id": "d6653fd4",
   "metadata": {},
   "source": [
    "### Banco de dados: Fashion MNIST\n",
    "Contém 70 mil imagens (60mil oara treinamento e 10 mil para teste) imagens em tons de cinza em 10 categorias.\n",
    "https://www.tensorflow.org/tutorials/keras/classification?hl=pt-br\n",
    "\n",
    "<img src=\"https://uploaddeimagens.com.br/images/003/297/013/full/Capturar.PNG?1624226287\" style=\"width: 400px;\"/>\n",
    "\n",
    "**Objetivo: Identificar a classe da roupa**\n",
    "\n",
    "### <font color='red'> Obs: no exemplo a seguir NÃO iremos usar validação cruzada!</font>\n",
    "\n",
    "<br>"
   ]
  },
  {
   "cell_type": "markdown",
   "id": "dd63a08d",
   "metadata": {},
   "source": [
    "### Preparação dos dados "
   ]
  },
  {
   "cell_type": "code",
   "execution_count": null,
   "id": "72309d67",
   "metadata": {},
   "outputs": [],
   "source": [
    "fashion_mnist = ke.datasets.fashion_mnist\n",
    "(X2, Y2), (X_teste, Y_teste) = fashion_mnist.load_data()\n",
    "X_treino, X_val, Y_treino, Y_val = train_test_split(X2, Y2, test_size=0.2,random_state=20,shuffle=True,stratify=Y2)\n",
    "\n",
    "# codificacao da saída (one-hot encoding)\n",
    "Y_treino=ke.utils.to_categorical(Y_treino)\n",
    "Y_teste=ke.utils.to_categorical(Y_teste)\n",
    "Y_val=ke.utils.to_categorical(Y_val)\n",
    "\n",
    "# Normalização das entradas\n",
    "X_treino = X_treino/255.0\n",
    "X_teste= X_teste/255.0\n",
    "X_val= X_val/255.0"
   ]
  },
  {
   "cell_type": "markdown",
   "id": "561907b4",
   "metadata": {},
   "source": [
    "## Efeito dos hiperparâmetros"
   ]
  },
  {
   "cell_type": "code",
   "execution_count": null,
   "id": "e83f431f",
   "metadata": {
    "scrolled": false
   },
   "outputs": [],
   "source": [
    "model = ke.Sequential()\n",
    "model.add(ke.layers.Flatten(input_shape=(28, 28,)))\n",
    "#model.add(ke.layers.Dropout(0.2))\n",
    "model.add(ke.layers.Dense(90, activation='relu'))\n",
    "#model.add(ke.layers.BatchNormalization())\n",
    "#model.add(ke.layers.Dropout(0.2))\n",
    "model.add(ke.layers.Dense(10, activation='softmax'))\n",
    "\n",
    "\n",
    "#opt = ke.optimizers.Adam(learning_rate=1e-5)\n",
    "# opt = ke.optimizers.Adam(learning_rate= ke.optimizers.schedules.ExponentialDecay(\n",
    "#     initial_learning_rate=0.1,\n",
    "#     decay_steps=10,\n",
    "#     decay_rate=0.9))\n",
    "\n",
    "\n",
    "model.compile(optimizer='Adam', \n",
    "              loss='categorical_crossentropy',\n",
    "              metrics=['accuracy'])\n",
    "\n",
    "\n",
    "# fixar estado de inicialização. Melhorar a reprodutibilidade\n",
    "i=543\n",
    "os.environ['PYTHONHASHSEED']=str(i)\n",
    "tf.random.set_seed(i)\n",
    "np.random.seed(i)\n",
    "random.seed(i)\n",
    "\n",
    "history=model.fit(x=X_treino, y=Y_treino,\n",
    "          epochs=20,batch_size=2000,\n",
    "          validation_data=(X_val,Y_val),verbose=False)\n",
    "\n",
    "# análise dos resultados\n",
    "plt.figure(figsize=(15,5))\n",
    "plt.subplot(1,2,1)\n",
    "plt.plot(history.history[\"loss\"], label=\"treino\")\n",
    "plt.plot(history.history[\"val_loss\"], label=\"validacao\")\n",
    "plt.xlabel(\"epocas\")\n",
    "plt.ylabel(\"Loss\")\n",
    "plt.legend();\n",
    "plt.subplot(1,2,2)\n",
    "plt.plot(history.history[\"accuracy\"], label=\"treino\")\n",
    "plt.plot(history.history[\"val_accuracy\"], label=\"validacao\")\n",
    "plt.xlabel(\"epocas\")\n",
    "plt.ylabel(\"acurácia\")\n",
    "plt.legend();\n",
    "\n",
    "Y_pred_prob= model.predict(X_teste)\n",
    "Y_pred_teste = np.argmax(Y_pred_prob,axis=1)  # resultado numerico\n",
    "Y_teste_num= np.argmax(Y_teste,axis=1)   # retorna para numerico (era categorico)\n",
    "\n",
    "cmat=confusion_matrix(Y_pred_teste,Y_teste_num)\n",
    "cm_df = pd.DataFrame(cmat) \n",
    "\n",
    "plt.figure()\n",
    "ax= plt.subplot()\n",
    "sns.heatmap(cm_df,annot=True, cmap='Reds',fmt=\"d\",cbar=False)"
   ]
  },
  {
   "cell_type": "markdown",
   "id": "82750b04",
   "metadata": {},
   "source": [
    "# Métodos automáticos de ajuste de hiperparâmetros"
   ]
  },
  {
   "cell_type": "markdown",
   "id": "12b681db",
   "metadata": {},
   "source": [
    "<img src=\"https://developer.qualcomm.com/sites/default/files/attachments/learning_resources_03-05.png\" width=\"600px;\"/>\n",
    "\n",
    "\n",
    "\n",
    "    \n",
    "    \n",
    "    "
   ]
  },
  {
   "cell_type": "code",
   "execution_count": null,
   "id": "bb4b1789",
   "metadata": {},
   "outputs": [],
   "source": [
    "from keras.wrappers.scikit_learn import KerasClassifier\n",
    "from sklearn.model_selection import GridSearchCV\n",
    "\n",
    "from sklearn.metrics import make_scorer \n",
    "from sklearn.metrics import  balanced_accuracy_score"
   ]
  },
  {
   "cell_type": "markdown",
   "id": "e40ac383",
   "metadata": {},
   "source": [
    "1) Criar o modelo, colocando como argumento opcional o parâmetro a ser variado"
   ]
  },
  {
   "cell_type": "code",
   "execution_count": null,
   "id": "1eb1098e",
   "metadata": {},
   "outputs": [],
   "source": [
    "def model_grid(n,learn_rate):\n",
    "    model = ke.Sequential()\n",
    "    model.add(ke.layers.Flatten(input_shape=(28, 28,)))\n",
    "    model.add(ke.layers.Dense(n, activation='relu'))\n",
    "    model.add(ke.layers.BatchNormalization())\n",
    "    model.add(ke.layers.Dropout(0.5))\n",
    "    model.add(ke.layers.Dense(10, activation='softmax'))\n",
    "    opt = ke.optimizers.Adam(lr=learn_rate)\n",
    "    model.compile(optimizer=opt, \n",
    "              loss='categorical_crossentropy',\n",
    "              metrics=['accuracy'])\n",
    "    return model\n"
   ]
  },
  {
   "cell_type": "markdown",
   "id": "b24c596a",
   "metadata": {},
   "source": [
    "2) Definindo os parametros de busca"
   ]
  },
  {
   "cell_type": "code",
   "execution_count": null,
   "id": "83e36eee",
   "metadata": {},
   "outputs": [],
   "source": [
    "lr_grid = [0.1,0.05]\n",
    "n_grid = [2,90]\n",
    "\n",
    "param_grid = dict(learn_rate=lr_grid, n=n_grid)"
   ]
  },
  {
   "cell_type": "markdown",
   "id": "b08a8b72",
   "metadata": {},
   "source": [
    "3) Cria e treina o modelo\n",
    "\n",
    "#### <font color='red'> Obs:GridSearchCV já permite a realização automática da validação cruzada!</font>"
   ]
  },
  {
   "cell_type": "code",
   "execution_count": null,
   "id": "b55144ff",
   "metadata": {},
   "outputs": [],
   "source": [
    "model = KerasClassifier(build_fn=model_grid, epochs=20, batch_size=2000, verbose=0)\n",
    "\n",
    "grid = GridSearchCV(estimator=model, param_grid=param_grid,cv=3,refit=False)\n",
    "grid_result = grid.fit(X2, Y2)"
   ]
  },
  {
   "cell_type": "markdown",
   "id": "1d11c81e",
   "metadata": {},
   "source": [
    "5) Avaliando os resultados"
   ]
  },
  {
   "cell_type": "code",
   "execution_count": null,
   "id": "6abd9c93",
   "metadata": {},
   "outputs": [],
   "source": [
    "df=pd.DataFrame(grid_result.cv_results_)\n",
    "df"
   ]
  },
  {
   "cell_type": "markdown",
   "id": "90a910c0",
   "metadata": {},
   "source": [
    "<font color='red'>Importante: sempre retreinar o modelo com os melhores hiperparâmetros selecionados!</font></center>"
   ]
  }
 ],
 "metadata": {
  "kernelspec": {
   "display_name": "projITI",
   "language": "python",
   "name": "python3"
  },
  "language_info": {
   "codemirror_mode": {
    "name": "ipython",
    "version": 3
   },
   "file_extension": ".py",
   "mimetype": "text/x-python",
   "name": "python",
   "nbconvert_exporter": "python",
   "pygments_lexer": "ipython3",
   "version": "3.10.8"
  },
  "vscode": {
   "interpreter": {
    "hash": "19ebae7649bc8f30423614f7f0c6c34bfa0523abe40845ad5c12c7c23eb09446"
   }
  }
 },
 "nbformat": 4,
 "nbformat_minor": 5
}
