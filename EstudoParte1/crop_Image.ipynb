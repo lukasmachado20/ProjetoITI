{
 "cells": [
  {
   "cell_type": "code",
   "execution_count": 2,
   "metadata": {},
   "outputs": [],
   "source": [
    "import numpy as np\n",
    "import cv2\n",
    "import pydicom \n",
    "import imutils"
   ]
  },
  {
   "cell_type": "code",
   "execution_count": 3,
   "metadata": {},
   "outputs": [],
   "source": [
    "# Tentei fazer o recorte utilizando algumas funções mas não consegui\n",
    "\n",
    "dicom = pydicom.dcmread(\"/mnt/d/ImagensDatasetFredrik/00189_20990909_L_MLO_1.dcm\")\n",
    "img = np.array(dicom.pixel_array)\n",
    "originalImg = img\n",
    "\n",
    "# todos os valores maiores que o threshold irao receber 1, senao recebe 0\n",
    "ret, mask = cv2.threshold(img, 0, np.max(img), cv2.THRESH_BINARY)\n",
    "arrayThresh = mask.astype('uint8')"
   ]
  },
  {
   "cell_type": "code",
   "execution_count": 10,
   "metadata": {},
   "outputs": [
    {
     "ename": "error",
     "evalue": "OpenCV(4.6.0) :-1: error: (-5:Bad argument) in function 'fillConvexPoly'\n> Overload resolution failed:\n>  - Scalar value for argument 'color' is longer than 4\n>  - Scalar value for argument 'color' is longer than 4\n",
     "output_type": "error",
     "traceback": [
      "\u001b[0;31m---------------------------------------------------------------------------\u001b[0m",
      "\u001b[0;31merror\u001b[0m                                     Traceback (most recent call last)",
      "Cell \u001b[0;32mIn [10], line 7\u001b[0m\n\u001b[1;32m      5\u001b[0m roiCorners \u001b[39m=\u001b[39m np\u001b[39m.\u001b[39marray([[(\u001b[39m10\u001b[39m,\u001b[39m10\u001b[39m), (\u001b[39m300\u001b[39m,\u001b[39m300\u001b[39m)]])\n\u001b[1;32m      6\u001b[0m mask \u001b[39m=\u001b[39m np\u001b[39m.\u001b[39mzeros(img\u001b[39m.\u001b[39mshape, dtype\u001b[39m=\u001b[39mnp\u001b[39m.\u001b[39muint8)\n\u001b[0;32m----> 7\u001b[0m cv2\u001b[39m.\u001b[39;49mfillConvexPoly(mask, roiCorners, (\u001b[39m255\u001b[39;49m,)\u001b[39m*\u001b[39;49mimg\u001b[39m.\u001b[39;49mshape[\u001b[39m1\u001b[39;49m])\n",
      "\u001b[0;31merror\u001b[0m: OpenCV(4.6.0) :-1: error: (-5:Bad argument) in function 'fillConvexPoly'\n> Overload resolution failed:\n>  - Scalar value for argument 'color' is longer than 4\n>  - Scalar value for argument 'color' is longer than 4\n"
     ]
    }
   ],
   "source": [
    "countours = cv2.findContours(arrayThresh, cv2.RETR_EXTERNAL, cv2.CHAIN_APPROX_NONE)\n",
    "countours = imutils.grab_contours(countours)\n",
    "sorted_contours = sorted(countours, key=cv2.contourArea, reverse= True)\n",
    "\n",
    "roiCorners = np.array([[(10,10), (300,300)]])\n",
    "mask = np.zeros(img.shape, dtype=np.uint8)\n",
    "cv2.fillConvexPoly(mask, roiCorners, (255,)*img.shape[1])"
   ]
  },
  {
   "cell_type": "code",
   "execution_count": null,
   "metadata": {},
   "outputs": [],
   "source": []
  }
 ],
 "metadata": {
  "kernelspec": {
   "display_name": "projITI",
   "language": "python",
   "name": "python3"
  },
  "language_info": {
   "codemirror_mode": {
    "name": "ipython",
    "version": 3
   },
   "file_extension": ".py",
   "mimetype": "text/x-python",
   "name": "python",
   "nbconvert_exporter": "python",
   "pygments_lexer": "ipython3",
   "version": "3.10.8 (main, Nov 24 2022, 14:13:03) [GCC 11.2.0]"
  },
  "orig_nbformat": 4,
  "vscode": {
   "interpreter": {
    "hash": "19ebae7649bc8f30423614f7f0c6c34bfa0523abe40845ad5c12c7c23eb09446"
   }
  }
 },
 "nbformat": 4,
 "nbformat_minor": 2
}
