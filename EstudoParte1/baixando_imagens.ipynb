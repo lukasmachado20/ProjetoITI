{
 "cells": [
  {
   "cell_type": "code",
   "execution_count": 1,
   "metadata": {},
   "outputs": [],
   "source": [
    "import pandas as pd\n",
    "import multiprocessing as mlp  \n",
    "from src.download_dataset import download"
   ]
  },
  {
   "cell_type": "markdown",
   "metadata": {},
   "source": [
    "#### Baixar imagens negativas e imagens positivas que tem máscara"
   ]
  },
  {
   "cell_type": "code",
   "execution_count": 2,
   "metadata": {},
   "outputs": [],
   "source": [
    "# pasta onde ira salvar\n",
    "folderSave = '/mnt/d/ImagensDatasetFredrik/negative/' # /home/lukas-machado/fredrik_dataset\n",
    "# baixando imagens de cancer\n",
    "df = pd.read_csv('FredrikDatasetAnalysis/hasCancer_HasMask.csv')['anon_filename']\n",
    "filesWithMaskCancer = list(df)\n",
    "# baixando imagens de nao cancer\n",
    "dataFrame = pd.read_csv(\"./CSVs/anon_dataset_nonhidden_211125.csv\") # lendo o dataset\n",
    "cancerOnlyDataframe = dataFrame[dataFrame['x_case']==0] # apenas casos positivos\n",
    "filesNotCancer = list(cancerOnlyDataframe['anon_filename'])[:800]"
   ]
  },
  {
   "cell_type": "code",
   "execution_count": 3,
   "metadata": {},
   "outputs": [
    {
     "name": "stdout",
     "output_type": "stream",
     "text": [
      "/mnt/d/ImagensDatasetFredrik/negative00004_20990909_R_CC_1.dcm/mnt/d/ImagensDatasetFredrik/negative00004_20990909_R_MLO_2.dcm\n",
      "\n",
      "Baixando imagem 00004_20990909_R_CC_1.dcm ...\n",
      "Baixando imagem 00004_20990909_R_MLO_2.dcm ...\n"
     ]
    },
    {
     "ename": "KeyboardInterrupt",
     "evalue": "",
     "output_type": "error",
     "traceback": [
      "\u001b[0;31m---------------------------------------------------------------------------\u001b[0m",
      "\u001b[0;31mKeyboardInterrupt\u001b[0m                         Traceback (most recent call last)",
      "Cell \u001b[0;32mIn [3], line 11\u001b[0m\n\u001b[1;32m      9\u001b[0m \u001b[39mfinally\u001b[39;00m:  \u001b[39m# fecha independente se deu erro ou nao\u001b[39;00m\n\u001b[1;32m     10\u001b[0m     pool\u001b[39m.\u001b[39mclose()\n\u001b[0;32m---> 11\u001b[0m     pool\u001b[39m.\u001b[39;49mjoin()\n",
      "File \u001b[0;32m~/miniconda3/envs/projITI/lib/python3.10/multiprocessing/pool.py:665\u001b[0m, in \u001b[0;36mPool.join\u001b[0;34m(self)\u001b[0m\n\u001b[1;32m    663\u001b[0m \u001b[39melif\u001b[39;00m \u001b[39mself\u001b[39m\u001b[39m.\u001b[39m_state \u001b[39mnot\u001b[39;00m \u001b[39min\u001b[39;00m (CLOSE, TERMINATE):\n\u001b[1;32m    664\u001b[0m     \u001b[39mraise\u001b[39;00m \u001b[39mValueError\u001b[39;00m(\u001b[39m\"\u001b[39m\u001b[39mIn unknown state\u001b[39m\u001b[39m\"\u001b[39m)\n\u001b[0;32m--> 665\u001b[0m \u001b[39mself\u001b[39;49m\u001b[39m.\u001b[39;49m_worker_handler\u001b[39m.\u001b[39;49mjoin()\n\u001b[1;32m    666\u001b[0m \u001b[39mself\u001b[39m\u001b[39m.\u001b[39m_task_handler\u001b[39m.\u001b[39mjoin()\n\u001b[1;32m    667\u001b[0m \u001b[39mself\u001b[39m\u001b[39m.\u001b[39m_result_handler\u001b[39m.\u001b[39mjoin()\n",
      "File \u001b[0;32m~/miniconda3/envs/projITI/lib/python3.10/threading.py:1096\u001b[0m, in \u001b[0;36mThread.join\u001b[0;34m(self, timeout)\u001b[0m\n\u001b[1;32m   1093\u001b[0m     \u001b[39mraise\u001b[39;00m \u001b[39mRuntimeError\u001b[39;00m(\u001b[39m\"\u001b[39m\u001b[39mcannot join current thread\u001b[39m\u001b[39m\"\u001b[39m)\n\u001b[1;32m   1095\u001b[0m \u001b[39mif\u001b[39;00m timeout \u001b[39mis\u001b[39;00m \u001b[39mNone\u001b[39;00m:\n\u001b[0;32m-> 1096\u001b[0m     \u001b[39mself\u001b[39;49m\u001b[39m.\u001b[39;49m_wait_for_tstate_lock()\n\u001b[1;32m   1097\u001b[0m \u001b[39melse\u001b[39;00m:\n\u001b[1;32m   1098\u001b[0m     \u001b[39m# the behavior of a negative timeout isn't documented, but\u001b[39;00m\n\u001b[1;32m   1099\u001b[0m     \u001b[39m# historically .join(timeout=x) for x<0 has acted as if timeout=0\u001b[39;00m\n\u001b[1;32m   1100\u001b[0m     \u001b[39mself\u001b[39m\u001b[39m.\u001b[39m_wait_for_tstate_lock(timeout\u001b[39m=\u001b[39m\u001b[39mmax\u001b[39m(timeout, \u001b[39m0\u001b[39m))\n",
      "File \u001b[0;32m~/miniconda3/envs/projITI/lib/python3.10/threading.py:1116\u001b[0m, in \u001b[0;36mThread._wait_for_tstate_lock\u001b[0;34m(self, block, timeout)\u001b[0m\n\u001b[1;32m   1113\u001b[0m     \u001b[39mreturn\u001b[39;00m\n\u001b[1;32m   1115\u001b[0m \u001b[39mtry\u001b[39;00m:\n\u001b[0;32m-> 1116\u001b[0m     \u001b[39mif\u001b[39;00m lock\u001b[39m.\u001b[39;49macquire(block, timeout):\n\u001b[1;32m   1117\u001b[0m         lock\u001b[39m.\u001b[39mrelease()\n\u001b[1;32m   1118\u001b[0m         \u001b[39mself\u001b[39m\u001b[39m.\u001b[39m_stop()\n",
      "\u001b[0;31mKeyboardInterrupt\u001b[0m: "
     ]
    }
   ],
   "source": [
    "try:\n",
    "    n_cores = 2  # utiliza 3 cores do processador\n",
    "    pool = mlp.Pool(processes=n_cores)\n",
    "\n",
    "    for i in (filesNotCancer): \n",
    "        # coloca na pool de processo a funcao e arquivo para baixar\n",
    "        pool.apply_async(download, [i, folderSave])\n",
    "\n",
    "finally:  # fecha independente se deu erro ou nao\n",
    "    pool.close()\n",
    "    pool.join()"
   ]
  }
 ],
 "metadata": {
  "kernelspec": {
   "display_name": "Python 3",
   "language": "python",
   "name": "python3"
  },
  "language_info": {
   "codemirror_mode": {
    "name": "ipython",
    "version": 3
   },
   "file_extension": ".py",
   "mimetype": "text/x-python",
   "name": "python",
   "nbconvert_exporter": "python",
   "pygments_lexer": "ipython3",
   "version": "3.11.1"
  },
  "orig_nbformat": 4,
  "vscode": {
   "interpreter": {
    "hash": "f259f5394eb3f204b6dc0599c7880b05f04202dc0062d9ccf82f00945ee3d9f6"
   }
  }
 },
 "nbformat": 4,
 "nbformat_minor": 2
}
