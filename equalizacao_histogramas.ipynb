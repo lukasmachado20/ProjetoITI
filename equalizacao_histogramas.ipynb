{
 "cells": [
  {
   "cell_type": "code",
   "execution_count": 39,
   "metadata": {},
   "outputs": [],
   "source": [
    "import numpy as np\n",
    "import pydicom\n",
    "from skimage import exposure\n",
    "from matplotlib import pyplot as plt\n",
    "import imageProcessing as imgProc"
   ]
  },
  {
   "cell_type": "code",
   "execution_count": 31,
   "metadata": {},
   "outputs": [],
   "source": [
    "img = pydicom.dcmread('/mnt/d/ImagensDatasetFredrik/00530_20990909_R_CC_1.dcm')\n",
    "img = np.array(img.pixel_array)\n",
    "nroBits = np.max(img)\n",
    "imgArray = img"
   ]
  },
  {
   "cell_type": "markdown",
   "metadata": {},
   "source": [
    "# Calculando o Histograma da Imagem \n",
    "* Obs: A imagem e 16bits, portanto a faixa de valores é muito maior que o normal de outras imagens, portante eh necessario calcular atraves de outras bibliotecas, opencv nao funciona.\n",
    "#### # Histograma \n",
    "`Histograma eh um grafico de barras que demonstra uma distribuicao de frequencias de uma determinado tipo de variavel`\n",
    "* No processamento de imagens:\n",
    "- Representa um grafico de frequencias de intensidade de pixels na imagem. Representa o numero de pixels para cada intensidade de valor considerado."
   ]
  },
  {
   "cell_type": "markdown",
   "metadata": {},
   "source": [
    "## Normalização da Imagem: \n",
    "##### Equação:\n",
    "$xnorm=\\frac{x-xmin}{xmax-xmin}$"
   ]
  },
  {
   "cell_type": "code",
   "execution_count": 32,
   "metadata": {},
   "outputs": [],
   "source": [
    "# Normalizando imagem\n",
    "imgNormalized = imgArray/4095"
   ]
  },
  {
   "cell_type": "code",
   "execution_count": 33,
   "metadata": {},
   "outputs": [],
   "source": [
    "imgEqHist = exposure.equalize_hist(imgNormalized, nbins=np.max(imgArray))\n",
    "imgEqAdaptHist = exposure.equalize_adapthist(imgNormalized, nbins=np.max(imgArray), clip_limit=0.6)\n",
    "#hist, bin = np.histogram(imgEqHist.ravel(), bins=bits, range=np.max(imgArray))"
   ]
  },
  {
   "cell_type": "code",
   "execution_count": 40,
   "metadata": {},
   "outputs": [
    {
     "ename": "AttributeError",
     "evalue": "module 'imageProcessing' has no attribute 'cria_Axis'",
     "output_type": "error",
     "traceback": [
      "\u001b[0;31m---------------------------------------------------------------------------\u001b[0m",
      "\u001b[0;31mAttributeError\u001b[0m                            Traceback (most recent call last)",
      "\u001b[1;32m/mnt/c/Users/lukas/Documents/GitHubProjects/ProjetoITI/equalizacao_histogramas.ipynb Cell 7\u001b[0m in \u001b[0;36m<cell line: 2>\u001b[0;34m()\u001b[0m\n\u001b[1;32m      <a href='vscode-notebook-cell://wsl%2Bubuntu-20.04/mnt/c/Users/lukas/Documents/GitHubProjects/ProjetoITI/equalizacao_histogramas.ipynb#W6sdnNjb2RlLXJlbW90ZQ%3D%3D?line=0'>1</a>\u001b[0m \u001b[39m# Cria axis\u001b[39;00m\n\u001b[0;32m----> <a href='vscode-notebook-cell://wsl%2Bubuntu-20.04/mnt/c/Users/lukas/Documents/GitHubProjects/ProjetoITI/equalizacao_histogramas.ipynb#W6sdnNjb2RlLXJlbW90ZQ%3D%3D?line=1'>2</a>\u001b[0m fig, axes \u001b[39m=\u001b[39m imgProc\u001b[39m.\u001b[39;49mcria_Axis(plt\u001b[39m.\u001b[39mfigure(figsize\u001b[39m=\u001b[39m(\u001b[39m9\u001b[39m, \u001b[39m6\u001b[39m)))\n\u001b[1;32m      <a href='vscode-notebook-cell://wsl%2Bubuntu-20.04/mnt/c/Users/lukas/Documents/GitHubProjects/ProjetoITI/equalizacao_histogramas.ipynb#W6sdnNjb2RlLXJlbW90ZQ%3D%3D?line=3'>4</a>\u001b[0m \u001b[39m# Imagem Normal, sem nenhuma Equalizacao\u001b[39;00m\n\u001b[1;32m      <a href='vscode-notebook-cell://wsl%2Bubuntu-20.04/mnt/c/Users/lukas/Documents/GitHubProjects/ProjetoITI/equalizacao_histogramas.ipynb#W6sdnNjb2RlLXJlbW90ZQ%3D%3D?line=4'>5</a>\u001b[0m axeImg, axeHist, axeCdf \u001b[39m=\u001b[39m imgProc\u001b[39m.\u001b[39mplot_Img_And_Hist(imgNormalized, axes[:, \u001b[39m0\u001b[39m])\n",
      "\u001b[0;31mAttributeError\u001b[0m: module 'imageProcessing' has no attribute 'cria_Axis'"
     ]
    }
   ],
   "source": [
    "# Cria axis\n",
    "fig, axes = imgProc.cria_Axis(plt.figure(figsize=(9, 6)))\n",
    "  \n",
    "# Imagem Normal, sem nenhuma Equalizacao\n",
    "axeImg, axeHist, axeCdf = imgProc.plot_Img_And_Hist(imgNormalized, axes[:, 0])\n",
    "axeImg.set_title('Imagem Normal - Sem Corte')\n",
    "axeHist.set_ylabel('Numero de Pixels')\n",
    "\n",
    "# Imagem com Equalizacao de Histograma\n",
    "axeImg, axeHist, axeCdf = imgProc.plot_Img_And_Hist(imgEqHist, axes[:, 1])\n",
    "axeImg.set_title('Equalização de Histograma - Sem Corte')\n",
    "\n",
    "# Imagem com Equalizacao Adaptativa de Histograma\n",
    "axeImg, axeHist, axeCdf = imgProc.plot_Img_And_Hist(imgEqAdaptHist, axes[:, 2])\n",
    "axeImg.set_title('Equalização Adaptativa - Sem Corte')\n",
    "axeHist.legend(['clip_limit= 0.6'], fontsize=8,loc=2)\n",
    "\n",
    "fig.tight_layout()\n",
    "plt.show()\n"
   ]
  },
  {
   "cell_type": "code",
   "execution_count": 35,
   "metadata": {},
   "outputs": [],
   "source": [
    "# Cortando imagem\n",
    "imgArray = imgProc.croped_Img_With_Threshold(img)\n",
    "# Normalizar\n",
    "imgNormalized = imgArray/4095\n",
    "# Equalizacao Histograma\n",
    "imgEqHist = exposure.equalize_hist(imgNormalized, nbins=np.max(imgArray))\n",
    "imgEqAdaptHist = exposure.equalize_adapthist(imgNormalized, nbins=np.max(imgArray), clip_limit=0.6)"
   ]
  },
  {
   "cell_type": "code",
   "execution_count": 36,
   "metadata": {},
   "outputs": [],
   "source": [
    "# Axis\n",
    "fig, axes = imgProc.cria_Axis(plt.figure(figsize=(9, 6)))\n",
    "\n",
    "# Imagem Normal, sem nenhuma Equalizacao\n",
    "axeImg, axeHist, axeCdf = imgProc.plot_Img_And_Hist(imgNormalized, axes[:, 0])\n",
    "axeImg.set_title('Imagem Normal - Com Corte')\n",
    "axeHist.set_ylabel('Numero de Pixels')\n",
    "\n",
    "# Imagem com Equalizacao de Histograma\n",
    "axeImg, axeHist, axeCdf = imgProc.plot_Img_And_Hist(imgEqHist, axes[:, 1])\n",
    "axeImg.set_title('Equalização de Histograma - Com Corte')\n",
    "\n",
    "# Imagem com Equalizacao Adaptativa de Histograma\n",
    "axeImg, axeHist, axeCdf = imgProc.plot_Img_And_Hist(imgEqAdaptHist, axes[:, 2])\n",
    "axeImg.set_title('Equalização Adaptativa - Com Corte')\n",
    "axeHist.legend(['clip_limit= 0.6'], fontsize=8,loc=2)\n",
    "\n",
    "fig.tight_layout()\n",
    "plt.show()"
   ]
  },
  {
   "cell_type": "code",
   "execution_count": null,
   "metadata": {},
   "outputs": [],
   "source": []
  }
 ],
 "metadata": {
  "kernelspec": {
   "display_name": "Python 3.10.6 ('envITI')",
   "language": "python",
   "name": "python3"
  },
  "language_info": {
   "codemirror_mode": {
    "name": "ipython",
    "version": 3
   },
   "file_extension": ".py",
   "mimetype": "text/x-python",
   "name": "python",
   "nbconvert_exporter": "python",
   "pygments_lexer": "ipython3",
   "version": "3.10.6"
  },
  "orig_nbformat": 4,
  "vscode": {
   "interpreter": {
    "hash": "dd434f70cc3ae088313ff356a88103ed345b48a0462e7854e4d50831e9a55378"
   }
  }
 },
 "nbformat": 4,
 "nbformat_minor": 2
}
