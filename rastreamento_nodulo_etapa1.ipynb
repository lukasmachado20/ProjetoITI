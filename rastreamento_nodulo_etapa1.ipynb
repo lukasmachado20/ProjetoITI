{
 "cells": [
  {
   "cell_type": "markdown",
   "metadata": {},
   "source": [
    "<h1>Etapa 1:</h1>\n",
    "<p>Rastremento (via código): quais imagens possuem nódulo (pixel branco). Salvar em um dataframe o ID do paciente e as imagens que tem nódulo existente na máscara, com a respectiva identificação (CC ou MLO, L ou R, ano em que o nódulo)</p>"
   ]
  },
  {
   "cell_type": "markdown",
   "metadata": {},
   "source": [
    "<h3>Temos duas abordagens possíveis:</h3>\n",
    "<p>* Pegar uma lista com todos os pacientes positivos e verificar as mascaras para este paciente ou verificar a \n",
    "lista das mascaras e ir adicionando em um novo dataset para cada paciente.</p>"
   ]
  },
  {
   "cell_type": "code",
   "execution_count": 27,
   "metadata": {},
   "outputs": [],
   "source": [
    "import pandas as pd\n",
    "import numpy as np\n",
    "import os\n",
    "from PIL import Image\n",
    "import pydicom"
   ]
  },
  {
   "cell_type": "code",
   "execution_count": 31,
   "metadata": {},
   "outputs": [
    {
     "data": {
      "text/html": [
       "<div>\n",
       "<style scoped>\n",
       "    .dataframe tbody tr th:only-of-type {\n",
       "        vertical-align: middle;\n",
       "    }\n",
       "\n",
       "    .dataframe tbody tr th {\n",
       "        vertical-align: top;\n",
       "    }\n",
       "\n",
       "    .dataframe thead th {\n",
       "        text-align: right;\n",
       "    }\n",
       "</style>\n",
       "<table border=\"1\" class=\"dataframe\">\n",
       "  <thead>\n",
       "    <tr style=\"text-align: right;\">\n",
       "      <th></th>\n",
       "      <th>Unnamed: 0</th>\n",
       "      <th>Anos de Acompanhamento</th>\n",
       "      <th>mascaras com nodulo</th>\n",
       "    </tr>\n",
       "    <tr>\n",
       "      <th>Id do Paciente</th>\n",
       "      <th></th>\n",
       "      <th></th>\n",
       "      <th></th>\n",
       "    </tr>\n",
       "  </thead>\n",
       "  <tbody>\n",
       "    <tr>\n",
       "      <th>2</th>\n",
       "      <td>0</td>\n",
       "      <td>0</td>\n",
       "      <td></td>\n",
       "    </tr>\n",
       "    <tr>\n",
       "      <th>12</th>\n",
       "      <td>1</td>\n",
       "      <td>4</td>\n",
       "      <td></td>\n",
       "    </tr>\n",
       "    <tr>\n",
       "      <th>45</th>\n",
       "      <td>2</td>\n",
       "      <td>0</td>\n",
       "      <td></td>\n",
       "    </tr>\n",
       "    <tr>\n",
       "      <th>73</th>\n",
       "      <td>3</td>\n",
       "      <td>1</td>\n",
       "      <td></td>\n",
       "    </tr>\n",
       "    <tr>\n",
       "      <th>75</th>\n",
       "      <td>4</td>\n",
       "      <td>3</td>\n",
       "      <td></td>\n",
       "    </tr>\n",
       "    <tr>\n",
       "      <th>...</th>\n",
       "      <td>...</td>\n",
       "      <td>...</td>\n",
       "      <td>...</td>\n",
       "    </tr>\n",
       "    <tr>\n",
       "      <th>11184</th>\n",
       "      <td>868</td>\n",
       "      <td>0</td>\n",
       "      <td></td>\n",
       "    </tr>\n",
       "    <tr>\n",
       "      <th>11207</th>\n",
       "      <td>869</td>\n",
       "      <td>0</td>\n",
       "      <td></td>\n",
       "    </tr>\n",
       "    <tr>\n",
       "      <th>11266</th>\n",
       "      <td>870</td>\n",
       "      <td>0</td>\n",
       "      <td></td>\n",
       "    </tr>\n",
       "    <tr>\n",
       "      <th>11275</th>\n",
       "      <td>871</td>\n",
       "      <td>0</td>\n",
       "      <td></td>\n",
       "    </tr>\n",
       "    <tr>\n",
       "      <th>11303</th>\n",
       "      <td>872</td>\n",
       "      <td>0</td>\n",
       "      <td></td>\n",
       "    </tr>\n",
       "  </tbody>\n",
       "</table>\n",
       "<p>873 rows × 3 columns</p>\n",
       "</div>"
      ],
      "text/plain": [
       "                Unnamed: 0  Anos de Acompanhamento mascaras com nodulo\n",
       "Id do Paciente                                                        \n",
       "2                        0                       0                    \n",
       "12                       1                       4                    \n",
       "45                       2                       0                    \n",
       "73                       3                       1                    \n",
       "75                       4                       3                    \n",
       "...                    ...                     ...                 ...\n",
       "11184                  868                       0                    \n",
       "11207                  869                       0                    \n",
       "11266                  870                       0                    \n",
       "11275                  871                       0                    \n",
       "11303                  872                       0                    \n",
       "\n",
       "[873 rows x 3 columns]"
      ]
     },
     "execution_count": 31,
     "metadata": {},
     "output_type": "execute_result"
    }
   ],
   "source": [
    "# lista que contem todos os nomes das mascaras\n",
    "lista_mascaras = os.listdir(\"C:\\\\Users\\\\lukas\\\\Documents\\\\Arquivos do PROJETO ITI\\\\Fredrik Dataset\\\\mascaras\")\n",
    "# lista com pacientes positivos e anos de acompanhamento\n",
    "anos_acompanhamento_df = pd.read_excel(\"C:\\\\Users\\\\lukas\\\\Documents\\\\GitHubProjects\\\\ProjetoITI\\\\anos_acompanhamento.xlsx\",index_col=1) # indexando coluna 1 para utilizar como referencia na chamada loc\n",
    "# formato dos arquivos da mascara -> 'idPac(com 5 nros)'_20990909_(R ou L)_(MLO ou CC)_(ano de acompanhamento)_mask.png\n",
    "# adicionando coluna sobre os nodulos\n",
    "anos_acompanhamento_df['mascaras com nodulo'] = ''\n",
    "anos_acompanhamento_df"
   ]
  },
  {
   "cell_type": "code",
   "execution_count": null,
   "metadata": {},
   "outputs": [],
   "source": []
  }
 ],
 "metadata": {
  "kernelspec": {
   "display_name": "Python 3.10.2 64-bit",
   "language": "python",
   "name": "python3"
  },
  "language_info": {
   "codemirror_mode": {
    "name": "ipython",
    "version": 3
   },
   "file_extension": ".py",
   "mimetype": "text/x-python",
   "name": "python",
   "nbconvert_exporter": "python",
   "pygments_lexer": "ipython3",
   "version": "3.10.2"
  },
  "orig_nbformat": 4,
  "vscode": {
   "interpreter": {
    "hash": "e1719be7d630e7e0894a4346e00239747771550a505546fd5ba4d63ceaa06c07"
   }
  }
 },
 "nbformat": 4,
 "nbformat_minor": 2
}
