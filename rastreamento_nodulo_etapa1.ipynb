{
 "cells": [
  {
   "cell_type": "markdown",
   "metadata": {},
   "source": [
    "<h1>Etapa 1:</h1>\n",
    "<p>Rastremento (via código): quais imagens possuem nódulo (pixel branco). Salvar em um dataframe o ID do paciente e as imagens que tem nódulo existente na máscara, com a respectiva identificação (CC ou MLO, L ou R, ano em que o nódulo)</p>"
   ]
  },
  {
   "cell_type": "markdown",
   "metadata": {},
   "source": [
    "<h3>Temos duas abordagens possíveis:</h3>\n",
    "<p>* Pegar uma lista com todos os pacientes positivos e verificar as mascaras para este paciente ou verificar a \n",
    "lista das mascaras e ir adicionando em um novo dataset para cada paciente.</p>"
   ]
  },
  {
   "cell_type": "code",
   "execution_count": 1,
   "metadata": {},
   "outputs": [],
   "source": [
    "import pandas as pd\n",
    "import numpy as np\n",
    "import os\n",
    "from PIL import Image\n",
    "import pydicom\n",
    "# formato dos arquivos da mascara -> 'idPac(com 5 nros)'_20990909_'(R ou L)'_'(MLO ou CC)'_'(nro acompanhamento)'_mask.png"
   ]
  },
  {
   "cell_type": "code",
   "execution_count": 140,
   "metadata": {},
   "outputs": [],
   "source": [
    "def cria_Coluna_Lista(dataFrame, nomeColuna):\n",
    "    dataFrame[nomeColuna] = '' # cria coluna\n",
    "    for i in range(0,len(dataFrame)): # percorre linhas adicionado uma lista na coluna definida\n",
    "        dataFrame.at[i,nomeColuna] = [] # cria lista na celula especifica\n",
    "\n",
    "def insere_NomeArq_Nodulo(dataFrame, idPaciente, nomeArq):\n",
    "    dataFrame.loc[idPaciente].iat[1].append(nomeArq) # codigo para colocar o valor na lista a partir do id do paciente\n",
    "\n",
    "def verifica_Mascaras(dataFrame,listaMascaras,caminhoArquivos):\n",
    "    for nomeArquivo in listaMascaras: # loop pela lista de mascaras\n",
    "        mascara = np.array(Image.open(caminhoArquivos+\"\\\\\"+nomeArquivo),dtype=int) # pegando imagem\n",
    "        idPac = int(nomeArquivo[0:5]) # pega id do paciente e transforma em int\n",
    "        if 1 in mascara: # se existe algum pixel 1 na imagem, então existe marcação do nódulo\n",
    "            insere_NomeArq_Nodulo(dataFrame,idPac,nomeArquivo) # insere o nome do arquivo na lista da coluna 'mascaras com nodulo'"
   ]
  },
  {
   "cell_type": "code",
   "execution_count": null,
   "metadata": {},
   "outputs": [],
   "source": [
    "# 1. fazer um loop pela lista_mascaras e verificar se o arquivo tem rastreamento do nódulo\n",
    "# 2. caso o arquivo contenha, então pega os 5 primeiros digitos do arquivo para transformar em int e utilizar como index no dataset do anos_acompanhamento_df\n",
    "# 3. colocar o nome do arquivo na que tem mascara no id do pac."
   ]
  },
  {
   "cell_type": "code",
   "execution_count": null,
   "metadata": {},
   "outputs": [],
   "source": [
    "listaMascaras = os.listdir(\"C:\\\\Users\\\\lukas\\\\Documents\\\\Arquivos do PROJETO ITI\\\\Fredrik Dataset\\\\mascaras\") # lista que contem todos os nomes das mascaras\n",
    "anosAcompanhamentoDf = pd.read_excel(\"C:\\\\Users\\\\lukas\\\\Documents\\\\GitHubProjects\\\\ProjetoITI\\\\anos_acompanhamento.xlsx\",index_col=0) # lista com pacientes positivos e anos de acompanhamento\n",
    "cria_Coluna_Lista(anosAcompanhamentoDf,'mascaras com nodulo') # criando listas em cada linha\n",
    "anosAcompanhamentoDf.set_index('Id do Paciente',inplace=True) # alterando o index para utilizar o id do paciente\n",
    "verifica_Mascaras(anosAcompanhamentoDf,listaMascaras,\"C:\\\\Users\\\\lukas\\\\Documents\\\\Arquivos do PROJETO ITI\\\\Fredrik Dataset\\\\mascaras\")\n",
    "anosAcompanhamentoDf\n",
    "anosAcompanhamentoDf.to_csv(\"etapa1_Analise_Mascaras.csv\")"
   ]
  }
 ],
 "metadata": {
  "kernelspec": {
   "display_name": "Python 3.10.2 64-bit",
   "language": "python",
   "name": "python3"
  },
  "language_info": {
   "codemirror_mode": {
    "name": "ipython",
    "version": 3
   },
   "file_extension": ".py",
   "mimetype": "text/x-python",
   "name": "python",
   "nbconvert_exporter": "python",
   "pygments_lexer": "ipython3",
   "version": "3.10.2"
  },
  "orig_nbformat": 4,
  "vscode": {
   "interpreter": {
    "hash": "e1719be7d630e7e0894a4346e00239747771550a505546fd5ba4d63ceaa06c07"
   }
  }
 },
 "nbformat": 4,
 "nbformat_minor": 2
}
